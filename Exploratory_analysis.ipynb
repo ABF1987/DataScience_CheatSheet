{
 "cells": [
  {
   "cell_type": "markdown",
   "metadata": {},
   "source": [
    "## Exploratory data analysis in Pandas.\n",
    "\n",
    "**Initial steps:**\n",
    "\n",
    "1. Import required libraries.\n",
    "\n",
    "2. Load the data.\n",
    "\n",
    "3. Detecting Outliers.\n",
    "\n",
    "4. DataFrame info.\n",
    "\n",
    "5. Descriptive Statistical Analysis.\n",
    "\n",
    "6. Check for correlations.\n",
    "\n",
    "7. Plot features.\n",
    "\n",
    "8. Group by.\n",
    "\n",
    "9. ANOVA: Analysis of Variance."
   ]
  },
  {
   "cell_type": "markdown",
   "metadata": {},
   "source": [
    "### 1. Import required libraries."
   ]
  },
  {
   "cell_type": "code",
   "execution_count": 66,
   "metadata": {},
   "outputs": [],
   "source": [
    "import pandas as pd\n",
    "import numpy as np\n",
    "import matplotlib.pyplot as plt\n",
    "import seaborn as sns\n",
    "from scipy import stats"
   ]
  },
  {
   "cell_type": "markdown",
   "metadata": {},
   "source": [
    "### 2. Load the data."
   ]
  },
  {
   "cell_type": "code",
   "execution_count": 14,
   "metadata": {
    "collapsed": false,
    "jupyter": {
     "outputs_hidden": false
    }
   },
   "outputs": [
    {
     "data": {
      "text/html": [
       "<div>\n",
       "<style scoped>\n",
       "    .dataframe tbody tr th:only-of-type {\n",
       "        vertical-align: middle;\n",
       "    }\n",
       "\n",
       "    .dataframe tbody tr th {\n",
       "        vertical-align: top;\n",
       "    }\n",
       "\n",
       "    .dataframe thead th {\n",
       "        text-align: right;\n",
       "    }\n",
       "</style>\n",
       "<table border=\"1\" class=\"dataframe\">\n",
       "  <thead>\n",
       "    <tr style=\"text-align: right;\">\n",
       "      <th></th>\n",
       "      <th>Make</th>\n",
       "      <th>Doors</th>\n",
       "      <th>Body style</th>\n",
       "      <th>Num of cylinders</th>\n",
       "      <th>Engine size</th>\n",
       "      <th>Compression ratio</th>\n",
       "      <th>Horsepower</th>\n",
       "      <th>Peak rpm</th>\n",
       "      <th>City mpg</th>\n",
       "      <th>Highway mpg</th>\n",
       "      <th>Price</th>\n",
       "      <th>Horsepower binned</th>\n",
       "      <th>Diesel</th>\n",
       "      <th>Gas</th>\n",
       "    </tr>\n",
       "  </thead>\n",
       "  <tbody>\n",
       "    <tr>\n",
       "      <th>0</th>\n",
       "      <td>SUBARU</td>\n",
       "      <td>2</td>\n",
       "      <td>hatchback</td>\n",
       "      <td>four</td>\n",
       "      <td>0.297546</td>\n",
       "      <td>9.0</td>\n",
       "      <td>69</td>\n",
       "      <td>4900</td>\n",
       "      <td>31</td>\n",
       "      <td>36</td>\n",
       "      <td>5118.0</td>\n",
       "      <td>Low</td>\n",
       "      <td>0</td>\n",
       "      <td>1</td>\n",
       "    </tr>\n",
       "    <tr>\n",
       "      <th>1</th>\n",
       "      <td>CHEVROLET</td>\n",
       "      <td>2</td>\n",
       "      <td>hatchback</td>\n",
       "      <td>three</td>\n",
       "      <td>0.187117</td>\n",
       "      <td>9.5</td>\n",
       "      <td>48</td>\n",
       "      <td>5100</td>\n",
       "      <td>47</td>\n",
       "      <td>53</td>\n",
       "      <td>5151.0</td>\n",
       "      <td>Low</td>\n",
       "      <td>0</td>\n",
       "      <td>1</td>\n",
       "    </tr>\n",
       "    <tr>\n",
       "      <th>2</th>\n",
       "      <td>MAZDA</td>\n",
       "      <td>2</td>\n",
       "      <td>hatchback</td>\n",
       "      <td>four</td>\n",
       "      <td>0.279141</td>\n",
       "      <td>9.0</td>\n",
       "      <td>68</td>\n",
       "      <td>5000</td>\n",
       "      <td>30</td>\n",
       "      <td>31</td>\n",
       "      <td>5195.0</td>\n",
       "      <td>Low</td>\n",
       "      <td>0</td>\n",
       "      <td>1</td>\n",
       "    </tr>\n",
       "    <tr>\n",
       "      <th>3</th>\n",
       "      <td>TOYOTA</td>\n",
       "      <td>2</td>\n",
       "      <td>hatchback</td>\n",
       "      <td>four</td>\n",
       "      <td>0.282209</td>\n",
       "      <td>9.0</td>\n",
       "      <td>62</td>\n",
       "      <td>4800</td>\n",
       "      <td>35</td>\n",
       "      <td>39</td>\n",
       "      <td>5348.0</td>\n",
       "      <td>Low</td>\n",
       "      <td>0</td>\n",
       "      <td>1</td>\n",
       "    </tr>\n",
       "    <tr>\n",
       "      <th>4</th>\n",
       "      <td>MITSUBISHI</td>\n",
       "      <td>2</td>\n",
       "      <td>hatchback</td>\n",
       "      <td>four</td>\n",
       "      <td>0.282209</td>\n",
       "      <td>9.4</td>\n",
       "      <td>68</td>\n",
       "      <td>5500</td>\n",
       "      <td>37</td>\n",
       "      <td>41</td>\n",
       "      <td>5389.0</td>\n",
       "      <td>Low</td>\n",
       "      <td>0</td>\n",
       "      <td>1</td>\n",
       "    </tr>\n",
       "  </tbody>\n",
       "</table>\n",
       "</div>"
      ],
      "text/plain": [
       "         Make  Doors Body style Num of cylinders  Engine size  \\\n",
       "0      SUBARU      2  hatchback             four     0.297546   \n",
       "1   CHEVROLET      2  hatchback            three     0.187117   \n",
       "2       MAZDA      2  hatchback             four     0.279141   \n",
       "3      TOYOTA      2  hatchback             four     0.282209   \n",
       "4  MITSUBISHI      2  hatchback             four     0.282209   \n",
       "\n",
       "   Compression ratio  Horsepower  Peak rpm  City mpg  Highway mpg   Price  \\\n",
       "0                9.0          69      4900        31           36  5118.0   \n",
       "1                9.5          48      5100        47           53  5151.0   \n",
       "2                9.0          68      5000        30           31  5195.0   \n",
       "3                9.0          62      4800        35           39  5348.0   \n",
       "4                9.4          68      5500        37           41  5389.0   \n",
       "\n",
       "  Horsepower binned  Diesel  Gas  \n",
       "0               Low       0    1  \n",
       "1               Low       0    1  \n",
       "2               Low       0    1  \n",
       "3               Low       0    1  \n",
       "4               Low       0    1  "
      ]
     },
     "execution_count": 14,
     "metadata": {},
     "output_type": "execute_result"
    }
   ],
   "source": [
    "# Import data from csv to a Pandas DataFrame\n",
    "\n",
    "df = pd.read_csv('Data/Cars_CleanData.csv')\n",
    "df.head()"
   ]
  },
  {
   "cell_type": "code",
   "execution_count": 15,
   "metadata": {},
   "outputs": [
    {
     "name": "stdout",
     "output_type": "stream",
     "text": [
      "Null fields in each column:\n",
      "\n",
      "Make                 0\n",
      "Doors                0\n",
      "Body style           0\n",
      "Num of cylinders     0\n",
      "Engine size          0\n",
      "Compression ratio    0\n",
      "Horsepower           0\n",
      "Peak rpm             0\n",
      "City mpg             0\n",
      "Highway mpg          0\n",
      "Price                0\n",
      "Horsepower binned    0\n",
      "Diesel               0\n",
      "Gas                  0\n",
      "dtype: int64\n"
     ]
    }
   ],
   "source": [
    "# Check for null values.\n",
    "print('Null fields in each column:\\n')\n",
    "print(df.isnull().sum())"
   ]
  },
  {
   "cell_type": "markdown",
   "metadata": {
    "colab_type": "text",
    "id": "8Py3sQc_ZxyU"
   },
   "source": [
    "## 3. Detecting Outliers/\n",
    "\n",
    "Outliers can lead to less accurate models, hence it's a good idea to find them and evaluate if it is convenient to remove them. With box plots the IQR (InterQuartile Range) can be visualized. Points outside the box are outliers. "
   ]
  },
  {
   "cell_type": "code",
   "execution_count": 17,
   "metadata": {},
   "outputs": [
    {
     "data": {
      "text/plain": [
       "<matplotlib.axes._subplots.AxesSubplot at 0x11913b320>"
      ]
     },
     "execution_count": 17,
     "metadata": {},
     "output_type": "execute_result"
    },
    {
     "data": {
      "image/png": "[encoded data removed]",
      "text/plain": [
       "<Figure size 432x288 with 1 Axes>"
      ]
     },
     "metadata": {
      "needs_background": "light"
     },
     "output_type": "display_data"
    }
   ],
   "source": [
    "sns.boxplot(x=df['Engine size'])"
   ]
  },
  {
   "cell_type": "code",
   "execution_count": 18,
   "metadata": {},
   "outputs": [
    {
     "data": {
      "text/plain": [
       "<matplotlib.axes._subplots.AxesSubplot at 0x119d794a8>"
      ]
     },
     "execution_count": 18,
     "metadata": {},
     "output_type": "execute_result"
    },
    {
     "data": {
      "image/png": "[encoded data removed]",
      "text/plain": [
       "<Figure size 432x288 with 1 Axes>"
      ]
     },
     "metadata": {
      "needs_background": "light"
     },
     "output_type": "display_data"
    }
   ],
   "source": [
    "sns.boxplot(x=df['Compression ratio'])"
   ]
  },
  {
   "cell_type": "code",
   "execution_count": 19,
   "metadata": {},
   "outputs": [
    {
     "data": {
      "text/plain": [
       "<matplotlib.axes._subplots.AxesSubplot at 0x119dd3e80>"
      ]
     },
     "execution_count": 19,
     "metadata": {},
     "output_type": "execute_result"
    },
    {
     "data": {
      "image/png": "[encoded data removed]",
      "text/plain": [
       "<Figure size 432x288 with 1 Axes>"
      ]
     },
     "metadata": {
      "needs_background": "light"
     },
     "output_type": "display_data"
    }
   ],
   "source": [
    "sns.boxplot(x=df['Horsepower'])"
   ]
  },
  {
   "cell_type": "code",
   "execution_count": 27,
   "metadata": {},
   "outputs": [
    {
     "data": {
      "text/plain": [
       "<matplotlib.axes._subplots.AxesSubplot at 0x119fce128>"
      ]
     },
     "execution_count": 27,
     "metadata": {},
     "output_type": "execute_result"
    },
    {
     "data": {
      "image/png": "[encoded data removed]",
      "text/plain": [
       "<Figure size 432x288 with 1 Axes>"
      ]
     },
     "metadata": {
      "needs_background": "light"
     },
     "output_type": "display_data"
    }
   ],
   "source": [
    "# Removal of Horsepower outliers\n",
    "df = df[df['Horsepower']<190]\n",
    "sns.boxplot(x=df['Horsepower'])"
   ]
  },
  {
   "cell_type": "code",
   "execution_count": 28,
   "metadata": {},
   "outputs": [
    {
     "data": {
      "text/plain": [
       "<matplotlib.axes._subplots.AxesSubplot at 0x11a011748>"
      ]
     },
     "execution_count": 28,
     "metadata": {},
     "output_type": "execute_result"
    },
    {
     "data": {
      "image/png": "[encoded data removed]",
      "text/plain": [
       "<Figure size 432x288 with 1 Axes>"
      ]
     },
     "metadata": {
      "needs_background": "light"
     },
     "output_type": "display_data"
    }
   ],
   "source": [
    "sns.boxplot(x=df['Peak rpm'])"
   ]
  },
  {
   "cell_type": "code",
   "execution_count": 29,
   "metadata": {},
   "outputs": [
    {
     "data": {
      "text/plain": [
       "<matplotlib.axes._subplots.AxesSubplot at 0x11a075be0>"
      ]
     },
     "execution_count": 29,
     "metadata": {},
     "output_type": "execute_result"
    },
    {
     "data": {
      "image/png": "[encoded data removed]",
      "text/plain": [
       "<Figure size 432x288 with 1 Axes>"
      ]
     },
     "metadata": {
      "needs_background": "light"
     },
     "output_type": "display_data"
    }
   ],
   "source": [
    "# Removal of Peak rpm outliers\n",
    "df = df[df['Peak rpm']<6500]\n",
    "sns.boxplot(x=df['Peak rpm'])"
   ]
  },
  {
   "cell_type": "code",
   "execution_count": 21,
   "metadata": {},
   "outputs": [
    {
     "data": {
      "text/plain": [
       "<matplotlib.axes._subplots.AxesSubplot at 0x119e90be0>"
      ]
     },
     "execution_count": 21,
     "metadata": {},
     "output_type": "execute_result"
    },
    {
     "data": {
      "image/png": "[encoded data removed]",
      "text/plain": [
       "<Figure size 432x288 with 1 Axes>"
      ]
     },
     "metadata": {
      "needs_background": "light"
     },
     "output_type": "display_data"
    }
   ],
   "source": [
    "sns.boxplot(x=df['City mpg'])"
   ]
  },
  {
   "cell_type": "code",
   "execution_count": 30,
   "metadata": {},
   "outputs": [
    {
     "data": {
      "text/plain": [
       "<matplotlib.axes._subplots.AxesSubplot at 0x11a0ec4a8>"
      ]
     },
     "execution_count": 30,
     "metadata": {},
     "output_type": "execute_result"
    },
    {
     "data": {
      "image/png": "[encoded data removed]",
      "text/plain": [
       "<Figure size 432x288 with 1 Axes>"
      ]
     },
     "metadata": {
      "needs_background": "light"
     },
     "output_type": "display_data"
    }
   ],
   "source": [
    "# Removal of city mpg outliers\n",
    "df = df[df['City mpg']<45]\n",
    "sns.boxplot(x=df['City mpg'])"
   ]
  },
  {
   "cell_type": "code",
   "execution_count": 31,
   "metadata": {},
   "outputs": [
    {
     "data": {
      "text/plain": [
       "<matplotlib.axes._subplots.AxesSubplot at 0x11a14d208>"
      ]
     },
     "execution_count": 31,
     "metadata": {},
     "output_type": "execute_result"
    },
    {
     "data": {
      "image/png": "[encoded data removed]",
      "text/plain": [
       "<Figure size 432x288 with 1 Axes>"
      ]
     },
     "metadata": {
      "needs_background": "light"
     },
     "output_type": "display_data"
    }
   ],
   "source": [
    "sns.boxplot(x=df['Highway mpg'])"
   ]
  },
  {
   "cell_type": "code",
   "execution_count": 32,
   "metadata": {},
   "outputs": [
    {
     "data": {
      "text/plain": [
       "<matplotlib.axes._subplots.AxesSubplot at 0x11a1a6eb8>"
      ]
     },
     "execution_count": 32,
     "metadata": {},
     "output_type": "execute_result"
    },
    {
     "data": {
      "image/png": "[encoded data removed]",
      "text/plain": [
       "<Figure size 432x288 with 1 Axes>"
      ]
     },
     "metadata": {
      "needs_background": "light"
     },
     "output_type": "display_data"
    }
   ],
   "source": [
    "sns.boxplot(x=df['Price'])"
   ]
  },
  {
   "cell_type": "markdown",
   "metadata": {},
   "source": [
    "A more automatized method is the following:"
   ]
  },
  {
   "cell_type": "code",
   "execution_count": 34,
   "metadata": {},
   "outputs": [
    {
     "data": {
      "text/plain": [
       "(191, 14)"
      ]
     },
     "execution_count": 34,
     "metadata": {},
     "output_type": "execute_result"
    }
   ],
   "source": [
    "df.shape"
   ]
  },
  {
   "cell_type": "code",
   "execution_count": 33,
   "metadata": {},
   "outputs": [
    {
     "name": "stdout",
     "output_type": "stream",
     "text": [
      "Doors                   2.000000\n",
      "Engine size             0.133436\n",
      "Compression ratio       0.900000\n",
      "Horsepower             46.000000\n",
      "Peak rpm              700.000000\n",
      "City mpg               10.500000\n",
      "Highway mpg             9.000000\n",
      "Price                8432.500000\n",
      "Diesel                  0.000000\n",
      "Gas                     0.000000\n",
      "dtype: float64\n"
     ]
    }
   ],
   "source": [
    "Q1 = df.quantile(0.25)\n",
    "Q3 = df.quantile(0.75)\n",
    "IQR = Q3 - Q1\n",
    "print(IQR)"
   ]
  },
  {
   "cell_type": "code",
   "execution_count": 35,
   "metadata": {},
   "outputs": [
    {
     "data": {
      "text/plain": [
       "(157, 14)"
      ]
     },
     "execution_count": 35,
     "metadata": {},
     "output_type": "execute_result"
    }
   ],
   "source": [
    "df = df[~((df < (Q1 - 1.5 * IQR)) |(df > (Q3 + 1.5 * IQR))).any(axis=1)]\n",
    "df.shape"
   ]
  },
  {
   "cell_type": "markdown",
   "metadata": {},
   "source": [
    "34 rows were removed. This method removes rows which values are below 1.5 IQR belor Q1 (range from minimum to 25% of the values) or above Q3 (range from minimum to 75% of the values)."
   ]
  },
  {
   "cell_type": "markdown",
   "metadata": {},
   "source": [
    "### 4. DataFrame info."
   ]
  },
  {
   "cell_type": "code",
   "execution_count": 3,
   "metadata": {
    "collapsed": false,
    "jupyter": {
     "outputs_hidden": false
    }
   },
   "outputs": [
    {
     "data": {
      "text/plain": [
       "Index(['Make', 'Doors', 'Body style', 'Num of cylinders', 'Engine size',\n",
       "       'Compression ratio', 'Horsepower', 'Peak rpm', 'City mpg',\n",
       "       'Highway mpg', 'Price', 'Horsepower binned', 'Diesel', 'Gas'],\n",
       "      dtype='object')"
      ]
     },
     "execution_count": 3,
     "metadata": {},
     "output_type": "execute_result"
    }
   ],
   "source": [
    "# Extract headers titles\n",
    "df.columns"
   ]
  },
  {
   "cell_type": "code",
   "execution_count": 4,
   "metadata": {},
   "outputs": [
    {
     "data": {
      "text/plain": [
       "array(['SUBARU', 'CHEVROLET', 'MAZDA', 'TOYOTA', 'MITSUBISHI', 'HONDA',\n",
       "       'NISSAN', 'PLYMOUTH', 'DODGE', 'ISUZU', 'VOLKSWAGEN', 'RENAULT',\n",
       "       'SAAB', 'PEUGOT', 'VOLVO', 'ALFA-ROMERO', 'AUDI', 'BMW', 'MERCURY',\n",
       "       'PORSCHE', 'MERCEDES-BENZ', 'JAGUAR'], dtype=object)"
      ]
     },
     "execution_count": 4,
     "metadata": {},
     "output_type": "execute_result"
    }
   ],
   "source": [
    "# Get all unique values of a specific column\n",
    "df['Make'].unique()"
   ]
  },
  {
   "cell_type": "code",
   "execution_count": 44,
   "metadata": {
    "collapsed": false,
    "jupyter": {
     "outputs_hidden": false
    }
   },
   "outputs": [
    {
     "data": {
      "text/plain": [
       "<bound method DataFrame.info of               Make  Doors Body style Num of cylinders  Engine size  \\\n",
       "0           SUBARU      2  hatchback             four     0.297546   \n",
       "1        CHEVROLET      2  hatchback            three     0.187117   \n",
       "2            MAZDA      2  hatchback             four     0.279141   \n",
       "3           TOYOTA      2  hatchback             four     0.282209   \n",
       "4       MITSUBISHI      2  hatchback             four     0.282209   \n",
       "..             ...    ...        ...              ...          ...   \n",
       "200  MERCEDES-BENZ      2    hardtop            eight     0.932515   \n",
       "201           AUDI      2  hatchback             five     0.401840   \n",
       "202          ISUZU      2      sedan             four     0.276074   \n",
       "203          ISUZU      4      sedan             four     0.276074   \n",
       "204        PORSCHE      2  hatchback            eight     0.622699   \n",
       "\n",
       "     Compression ratio  Horsepower  Peak rpm  City mpg  Highway mpg    Price  \\\n",
       "0                  9.0          69      4900        31           36   5118.0   \n",
       "1                  9.5          48      5100        47           53   5151.0   \n",
       "2                  9.0          68      5000        30           31   5195.0   \n",
       "3                  9.0          62      4800        35           39   5348.0   \n",
       "4                  9.4          68      5500        37           41   5389.0   \n",
       "..                 ...         ...       ...       ...          ...      ...   \n",
       "200                8.0         184      4500        14           16  45400.0   \n",
       "201                7.0         160      5500        16           22      NaN   \n",
       "202                9.6          70      5400        38           43      NaN   \n",
       "203                9.6          70      5400        38           43      NaN   \n",
       "204               10.0         288      5750        17           28      NaN   \n",
       "\n",
       "    Horsepower binned  Diesel  Gas  \n",
       "0                 Low       0    1  \n",
       "1                 Low       0    1  \n",
       "2                 Low       0    1  \n",
       "3                 Low       0    1  \n",
       "4                 Low       0    1  \n",
       "..                ...     ...  ...  \n",
       "200            Medium       0    1  \n",
       "201            Medium       0    1  \n",
       "202               Low       0    1  \n",
       "203               Low       0    1  \n",
       "204              High       0    1  \n",
       "\n",
       "[205 rows x 14 columns]>"
      ]
     },
     "execution_count": 44,
     "metadata": {},
     "output_type": "execute_result"
    }
   ],
   "source": [
    "# Get a concise summary of your DataFrame\n",
    "df.info"
   ]
  },
  {
   "cell_type": "markdown",
   "metadata": {},
   "source": [
    "### 5. Descriptive Statistical Analysis.\n",
    "\n",
    "This will show:\n",
    "\n",
    "+ The count of that variable.\n",
    "+ The mean.\n",
    "+ The standard deviation (std).\n",
    "+ The minimum value.\n",
    "+ The IQR (Interquartile Range: 25%, 50% and 75%).\n",
    "+ The maximum value."
   ]
  },
  {
   "cell_type": "code",
   "execution_count": 6,
   "metadata": {
    "collapsed": false,
    "jupyter": {
     "outputs_hidden": false
    }
   },
   "outputs": [
    {
     "data": {
      "text/html": [
       "<div>\n",
       "<style scoped>\n",
       "    .dataframe tbody tr th:only-of-type {\n",
       "        vertical-align: middle;\n",
       "    }\n",
       "\n",
       "    .dataframe tbody tr th {\n",
       "        vertical-align: top;\n",
       "    }\n",
       "\n",
       "    .dataframe thead th {\n",
       "        text-align: right;\n",
       "    }\n",
       "</style>\n",
       "<table border=\"1\" class=\"dataframe\">\n",
       "  <thead>\n",
       "    <tr style=\"text-align: right;\">\n",
       "      <th></th>\n",
       "      <th>Doors</th>\n",
       "      <th>Engine size</th>\n",
       "      <th>Compression ratio</th>\n",
       "      <th>Horsepower</th>\n",
       "      <th>Peak rpm</th>\n",
       "      <th>City mpg</th>\n",
       "      <th>Highway mpg</th>\n",
       "      <th>Price</th>\n",
       "      <th>Diesel</th>\n",
       "      <th>Gas</th>\n",
       "    </tr>\n",
       "  </thead>\n",
       "  <tbody>\n",
       "    <tr>\n",
       "      <th>count</th>\n",
       "      <td>205.000000</td>\n",
       "      <td>205.000000</td>\n",
       "      <td>205.000000</td>\n",
       "      <td>205.000000</td>\n",
       "      <td>205.000000</td>\n",
       "      <td>205.000000</td>\n",
       "      <td>205.000000</td>\n",
       "      <td>201.000000</td>\n",
       "      <td>205.000000</td>\n",
       "      <td>205.000000</td>\n",
       "    </tr>\n",
       "    <tr>\n",
       "      <th>mean</th>\n",
       "      <td>3.131707</td>\n",
       "      <td>0.389286</td>\n",
       "      <td>10.142537</td>\n",
       "      <td>104.253659</td>\n",
       "      <td>5125.365854</td>\n",
       "      <td>25.219512</td>\n",
       "      <td>30.751220</td>\n",
       "      <td>13207.129353</td>\n",
       "      <td>0.097561</td>\n",
       "      <td>0.902439</td>\n",
       "    </tr>\n",
       "    <tr>\n",
       "      <th>std</th>\n",
       "      <td>0.993715</td>\n",
       "      <td>0.127738</td>\n",
       "      <td>3.972040</td>\n",
       "      <td>39.519219</td>\n",
       "      <td>476.979095</td>\n",
       "      <td>6.542142</td>\n",
       "      <td>6.886443</td>\n",
       "      <td>7947.066342</td>\n",
       "      <td>0.297446</td>\n",
       "      <td>0.297446</td>\n",
       "    </tr>\n",
       "    <tr>\n",
       "      <th>min</th>\n",
       "      <td>2.000000</td>\n",
       "      <td>0.187117</td>\n",
       "      <td>7.000000</td>\n",
       "      <td>48.000000</td>\n",
       "      <td>4150.000000</td>\n",
       "      <td>13.000000</td>\n",
       "      <td>16.000000</td>\n",
       "      <td>5118.000000</td>\n",
       "      <td>0.000000</td>\n",
       "      <td>0.000000</td>\n",
       "    </tr>\n",
       "    <tr>\n",
       "      <th>25%</th>\n",
       "      <td>2.000000</td>\n",
       "      <td>0.297546</td>\n",
       "      <td>8.600000</td>\n",
       "      <td>70.000000</td>\n",
       "      <td>4800.000000</td>\n",
       "      <td>19.000000</td>\n",
       "      <td>25.000000</td>\n",
       "      <td>7775.000000</td>\n",
       "      <td>0.000000</td>\n",
       "      <td>1.000000</td>\n",
       "    </tr>\n",
       "    <tr>\n",
       "      <th>50%</th>\n",
       "      <td>4.000000</td>\n",
       "      <td>0.368098</td>\n",
       "      <td>9.000000</td>\n",
       "      <td>95.000000</td>\n",
       "      <td>5200.000000</td>\n",
       "      <td>24.000000</td>\n",
       "      <td>30.000000</td>\n",
       "      <td>10295.000000</td>\n",
       "      <td>0.000000</td>\n",
       "      <td>1.000000</td>\n",
       "    </tr>\n",
       "    <tr>\n",
       "      <th>75%</th>\n",
       "      <td>4.000000</td>\n",
       "      <td>0.432515</td>\n",
       "      <td>9.400000</td>\n",
       "      <td>116.000000</td>\n",
       "      <td>5500.000000</td>\n",
       "      <td>30.000000</td>\n",
       "      <td>34.000000</td>\n",
       "      <td>16500.000000</td>\n",
       "      <td>0.000000</td>\n",
       "      <td>1.000000</td>\n",
       "    </tr>\n",
       "    <tr>\n",
       "      <th>max</th>\n",
       "      <td>4.000000</td>\n",
       "      <td>1.000000</td>\n",
       "      <td>23.000000</td>\n",
       "      <td>288.000000</td>\n",
       "      <td>6600.000000</td>\n",
       "      <td>49.000000</td>\n",
       "      <td>54.000000</td>\n",
       "      <td>45400.000000</td>\n",
       "      <td>1.000000</td>\n",
       "      <td>1.000000</td>\n",
       "    </tr>\n",
       "  </tbody>\n",
       "</table>\n",
       "</div>"
      ],
      "text/plain": [
       "            Doors  Engine size  Compression ratio  Horsepower     Peak rpm  \\\n",
       "count  205.000000   205.000000         205.000000  205.000000   205.000000   \n",
       "mean     3.131707     0.389286          10.142537  104.253659  5125.365854   \n",
       "std      0.993715     0.127738           3.972040   39.519219   476.979095   \n",
       "min      2.000000     0.187117           7.000000   48.000000  4150.000000   \n",
       "25%      2.000000     0.297546           8.600000   70.000000  4800.000000   \n",
       "50%      4.000000     0.368098           9.000000   95.000000  5200.000000   \n",
       "75%      4.000000     0.432515           9.400000  116.000000  5500.000000   \n",
       "max      4.000000     1.000000          23.000000  288.000000  6600.000000   \n",
       "\n",
       "         City mpg  Highway mpg         Price      Diesel         Gas  \n",
       "count  205.000000   205.000000    201.000000  205.000000  205.000000  \n",
       "mean    25.219512    30.751220  13207.129353    0.097561    0.902439  \n",
       "std      6.542142     6.886443   7947.066342    0.297446    0.297446  \n",
       "min     13.000000    16.000000   5118.000000    0.000000    0.000000  \n",
       "25%     19.000000    25.000000   7775.000000    0.000000    1.000000  \n",
       "50%     24.000000    30.000000  10295.000000    0.000000    1.000000  \n",
       "75%     30.000000    34.000000  16500.000000    0.000000    1.000000  \n",
       "max     49.000000    54.000000  45400.000000    1.000000    1.000000  "
      ]
     },
     "execution_count": 6,
     "metadata": {},
     "output_type": "execute_result"
    }
   ],
   "source": [
    "# Statistical summary of the DataFrame excluding NaN (not a number)\n",
    "df.describe()"
   ]
  },
  {
   "cell_type": "code",
   "execution_count": 43,
   "metadata": {
    "collapsed": false,
    "jupyter": {
     "outputs_hidden": false
    }
   },
   "outputs": [
    {
     "data": {
      "text/html": [
       "<div>\n",
       "<style scoped>\n",
       "    .dataframe tbody tr th:only-of-type {\n",
       "        vertical-align: middle;\n",
       "    }\n",
       "\n",
       "    .dataframe tbody tr th {\n",
       "        vertical-align: top;\n",
       "    }\n",
       "\n",
       "    .dataframe thead th {\n",
       "        text-align: right;\n",
       "    }\n",
       "</style>\n",
       "<table border=\"1\" class=\"dataframe\">\n",
       "  <thead>\n",
       "    <tr style=\"text-align: right;\">\n",
       "      <th></th>\n",
       "      <th>Make</th>\n",
       "      <th>Doors</th>\n",
       "      <th>Body style</th>\n",
       "      <th>Num of cylinders</th>\n",
       "      <th>Engine size</th>\n",
       "      <th>Compression ratio</th>\n",
       "      <th>Horsepower</th>\n",
       "      <th>Peak rpm</th>\n",
       "      <th>City mpg</th>\n",
       "      <th>Highway mpg</th>\n",
       "      <th>Price</th>\n",
       "      <th>Horsepower binned</th>\n",
       "      <th>Diesel</th>\n",
       "      <th>Gas</th>\n",
       "    </tr>\n",
       "  </thead>\n",
       "  <tbody>\n",
       "    <tr>\n",
       "      <th>count</th>\n",
       "      <td>205</td>\n",
       "      <td>205.000000</td>\n",
       "      <td>205</td>\n",
       "      <td>205</td>\n",
       "      <td>205.000000</td>\n",
       "      <td>205.000000</td>\n",
       "      <td>205.000000</td>\n",
       "      <td>205.000000</td>\n",
       "      <td>205.000000</td>\n",
       "      <td>205.000000</td>\n",
       "      <td>201.000000</td>\n",
       "      <td>205</td>\n",
       "      <td>205.000000</td>\n",
       "      <td>205.000000</td>\n",
       "    </tr>\n",
       "    <tr>\n",
       "      <th>unique</th>\n",
       "      <td>22</td>\n",
       "      <td>NaN</td>\n",
       "      <td>5</td>\n",
       "      <td>7</td>\n",
       "      <td>NaN</td>\n",
       "      <td>NaN</td>\n",
       "      <td>NaN</td>\n",
       "      <td>NaN</td>\n",
       "      <td>NaN</td>\n",
       "      <td>NaN</td>\n",
       "      <td>NaN</td>\n",
       "      <td>3</td>\n",
       "      <td>NaN</td>\n",
       "      <td>NaN</td>\n",
       "    </tr>\n",
       "    <tr>\n",
       "      <th>top</th>\n",
       "      <td>TOYOTA</td>\n",
       "      <td>NaN</td>\n",
       "      <td>sedan</td>\n",
       "      <td>four</td>\n",
       "      <td>NaN</td>\n",
       "      <td>NaN</td>\n",
       "      <td>NaN</td>\n",
       "      <td>NaN</td>\n",
       "      <td>NaN</td>\n",
       "      <td>NaN</td>\n",
       "      <td>NaN</td>\n",
       "      <td>Low</td>\n",
       "      <td>NaN</td>\n",
       "      <td>NaN</td>\n",
       "    </tr>\n",
       "    <tr>\n",
       "      <th>freq</th>\n",
       "      <td>32</td>\n",
       "      <td>NaN</td>\n",
       "      <td>96</td>\n",
       "      <td>159</td>\n",
       "      <td>NaN</td>\n",
       "      <td>NaN</td>\n",
       "      <td>NaN</td>\n",
       "      <td>NaN</td>\n",
       "      <td>NaN</td>\n",
       "      <td>NaN</td>\n",
       "      <td>NaN</td>\n",
       "      <td>163</td>\n",
       "      <td>NaN</td>\n",
       "      <td>NaN</td>\n",
       "    </tr>\n",
       "    <tr>\n",
       "      <th>mean</th>\n",
       "      <td>NaN</td>\n",
       "      <td>3.131707</td>\n",
       "      <td>NaN</td>\n",
       "      <td>NaN</td>\n",
       "      <td>0.389286</td>\n",
       "      <td>10.142537</td>\n",
       "      <td>104.253659</td>\n",
       "      <td>5125.365854</td>\n",
       "      <td>25.219512</td>\n",
       "      <td>30.751220</td>\n",
       "      <td>13207.129353</td>\n",
       "      <td>NaN</td>\n",
       "      <td>0.097561</td>\n",
       "      <td>0.902439</td>\n",
       "    </tr>\n",
       "    <tr>\n",
       "      <th>std</th>\n",
       "      <td>NaN</td>\n",
       "      <td>0.993715</td>\n",
       "      <td>NaN</td>\n",
       "      <td>NaN</td>\n",
       "      <td>0.127738</td>\n",
       "      <td>3.972040</td>\n",
       "      <td>39.519219</td>\n",
       "      <td>476.979095</td>\n",
       "      <td>6.542142</td>\n",
       "      <td>6.886443</td>\n",
       "      <td>7947.066342</td>\n",
       "      <td>NaN</td>\n",
       "      <td>0.297446</td>\n",
       "      <td>0.297446</td>\n",
       "    </tr>\n",
       "    <tr>\n",
       "      <th>min</th>\n",
       "      <td>NaN</td>\n",
       "      <td>2.000000</td>\n",
       "      <td>NaN</td>\n",
       "      <td>NaN</td>\n",
       "      <td>0.187117</td>\n",
       "      <td>7.000000</td>\n",
       "      <td>48.000000</td>\n",
       "      <td>4150.000000</td>\n",
       "      <td>13.000000</td>\n",
       "      <td>16.000000</td>\n",
       "      <td>5118.000000</td>\n",
       "      <td>NaN</td>\n",
       "      <td>0.000000</td>\n",
       "      <td>0.000000</td>\n",
       "    </tr>\n",
       "    <tr>\n",
       "      <th>25%</th>\n",
       "      <td>NaN</td>\n",
       "      <td>2.000000</td>\n",
       "      <td>NaN</td>\n",
       "      <td>NaN</td>\n",
       "      <td>0.297546</td>\n",
       "      <td>8.600000</td>\n",
       "      <td>70.000000</td>\n",
       "      <td>4800.000000</td>\n",
       "      <td>19.000000</td>\n",
       "      <td>25.000000</td>\n",
       "      <td>7775.000000</td>\n",
       "      <td>NaN</td>\n",
       "      <td>0.000000</td>\n",
       "      <td>1.000000</td>\n",
       "    </tr>\n",
       "    <tr>\n",
       "      <th>50%</th>\n",
       "      <td>NaN</td>\n",
       "      <td>4.000000</td>\n",
       "      <td>NaN</td>\n",
       "      <td>NaN</td>\n",
       "      <td>0.368098</td>\n",
       "      <td>9.000000</td>\n",
       "      <td>95.000000</td>\n",
       "      <td>5200.000000</td>\n",
       "      <td>24.000000</td>\n",
       "      <td>30.000000</td>\n",
       "      <td>10295.000000</td>\n",
       "      <td>NaN</td>\n",
       "      <td>0.000000</td>\n",
       "      <td>1.000000</td>\n",
       "    </tr>\n",
       "    <tr>\n",
       "      <th>75%</th>\n",
       "      <td>NaN</td>\n",
       "      <td>4.000000</td>\n",
       "      <td>NaN</td>\n",
       "      <td>NaN</td>\n",
       "      <td>0.432515</td>\n",
       "      <td>9.400000</td>\n",
       "      <td>116.000000</td>\n",
       "      <td>5500.000000</td>\n",
       "      <td>30.000000</td>\n",
       "      <td>34.000000</td>\n",
       "      <td>16500.000000</td>\n",
       "      <td>NaN</td>\n",
       "      <td>0.000000</td>\n",
       "      <td>1.000000</td>\n",
       "    </tr>\n",
       "    <tr>\n",
       "      <th>max</th>\n",
       "      <td>NaN</td>\n",
       "      <td>4.000000</td>\n",
       "      <td>NaN</td>\n",
       "      <td>NaN</td>\n",
       "      <td>1.000000</td>\n",
       "      <td>23.000000</td>\n",
       "      <td>288.000000</td>\n",
       "      <td>6600.000000</td>\n",
       "      <td>49.000000</td>\n",
       "      <td>54.000000</td>\n",
       "      <td>45400.000000</td>\n",
       "      <td>NaN</td>\n",
       "      <td>1.000000</td>\n",
       "      <td>1.000000</td>\n",
       "    </tr>\n",
       "  </tbody>\n",
       "</table>\n",
       "</div>"
      ],
      "text/plain": [
       "          Make       Doors Body style Num of cylinders  Engine size  \\\n",
       "count      205  205.000000        205              205   205.000000   \n",
       "unique      22         NaN          5                7          NaN   \n",
       "top     TOYOTA         NaN      sedan             four          NaN   \n",
       "freq        32         NaN         96              159          NaN   \n",
       "mean       NaN    3.131707        NaN              NaN     0.389286   \n",
       "std        NaN    0.993715        NaN              NaN     0.127738   \n",
       "min        NaN    2.000000        NaN              NaN     0.187117   \n",
       "25%        NaN    2.000000        NaN              NaN     0.297546   \n",
       "50%        NaN    4.000000        NaN              NaN     0.368098   \n",
       "75%        NaN    4.000000        NaN              NaN     0.432515   \n",
       "max        NaN    4.000000        NaN              NaN     1.000000   \n",
       "\n",
       "        Compression ratio  Horsepower     Peak rpm    City mpg  Highway mpg  \\\n",
       "count          205.000000  205.000000   205.000000  205.000000   205.000000   \n",
       "unique                NaN         NaN          NaN         NaN          NaN   \n",
       "top                   NaN         NaN          NaN         NaN          NaN   \n",
       "freq                  NaN         NaN          NaN         NaN          NaN   \n",
       "mean            10.142537  104.253659  5125.365854   25.219512    30.751220   \n",
       "std              3.972040   39.519219   476.979095    6.542142     6.886443   \n",
       "min              7.000000   48.000000  4150.000000   13.000000    16.000000   \n",
       "25%              8.600000   70.000000  4800.000000   19.000000    25.000000   \n",
       "50%              9.000000   95.000000  5200.000000   24.000000    30.000000   \n",
       "75%              9.400000  116.000000  5500.000000   30.000000    34.000000   \n",
       "max             23.000000  288.000000  6600.000000   49.000000    54.000000   \n",
       "\n",
       "               Price Horsepower binned      Diesel         Gas  \n",
       "count     201.000000               205  205.000000  205.000000  \n",
       "unique           NaN                 3         NaN         NaN  \n",
       "top              NaN               Low         NaN         NaN  \n",
       "freq             NaN               163         NaN         NaN  \n",
       "mean    13207.129353               NaN    0.097561    0.902439  \n",
       "std      7947.066342               NaN    0.297446    0.297446  \n",
       "min      5118.000000               NaN    0.000000    0.000000  \n",
       "25%      7775.000000               NaN    0.000000    1.000000  \n",
       "50%     10295.000000               NaN    0.000000    1.000000  \n",
       "75%     16500.000000               NaN    0.000000    1.000000  \n",
       "max     45400.000000               NaN    1.000000    1.000000  "
      ]
     },
     "execution_count": 43,
     "metadata": {},
     "output_type": "execute_result"
    }
   ],
   "source": [
    "# Statistical summary of the DataFrame including all data\n",
    "df.describe(include = \"all\")"
   ]
  },
  {
   "cell_type": "markdown",
   "metadata": {},
   "source": [
    "### 6. Check for correlations."
   ]
  },
  {
   "cell_type": "code",
   "execution_count": 47,
   "metadata": {},
   "outputs": [
    {
     "data": {
      "text/html": [
       "<div>\n",
       "<style scoped>\n",
       "    .dataframe tbody tr th:only-of-type {\n",
       "        vertical-align: middle;\n",
       "    }\n",
       "\n",
       "    .dataframe tbody tr th {\n",
       "        vertical-align: top;\n",
       "    }\n",
       "\n",
       "    .dataframe thead th {\n",
       "        text-align: right;\n",
       "    }\n",
       "</style>\n",
       "<table border=\"1\" class=\"dataframe\">\n",
       "  <thead>\n",
       "    <tr style=\"text-align: right;\">\n",
       "      <th></th>\n",
       "      <th>Doors</th>\n",
       "      <th>Engine size</th>\n",
       "      <th>Compression ratio</th>\n",
       "      <th>Horsepower</th>\n",
       "      <th>Peak rpm</th>\n",
       "      <th>City mpg</th>\n",
       "      <th>Highway mpg</th>\n",
       "      <th>Price</th>\n",
       "      <th>Diesel</th>\n",
       "      <th>Gas</th>\n",
       "    </tr>\n",
       "  </thead>\n",
       "  <tbody>\n",
       "    <tr>\n",
       "      <th>Doors</th>\n",
       "      <td>1.000000</td>\n",
       "      <td>0.100324</td>\n",
       "      <td>-0.145653</td>\n",
       "      <td>0.009757</td>\n",
       "      <td>-0.134432</td>\n",
       "      <td>-0.092691</td>\n",
       "      <td>-0.100331</td>\n",
       "      <td>0.133750</td>\n",
       "      <td>NaN</td>\n",
       "      <td>NaN</td>\n",
       "    </tr>\n",
       "    <tr>\n",
       "      <th>Engine size</th>\n",
       "      <td>0.100324</td>\n",
       "      <td>1.000000</td>\n",
       "      <td>-0.118217</td>\n",
       "      <td>0.786765</td>\n",
       "      <td>-0.263262</td>\n",
       "      <td>-0.639240</td>\n",
       "      <td>-0.629073</td>\n",
       "      <td>0.704516</td>\n",
       "      <td>NaN</td>\n",
       "      <td>NaN</td>\n",
       "    </tr>\n",
       "    <tr>\n",
       "      <th>Compression ratio</th>\n",
       "      <td>-0.145653</td>\n",
       "      <td>-0.118217</td>\n",
       "      <td>1.000000</td>\n",
       "      <td>-0.257869</td>\n",
       "      <td>0.141565</td>\n",
       "      <td>0.375383</td>\n",
       "      <td>0.373054</td>\n",
       "      <td>-0.157440</td>\n",
       "      <td>NaN</td>\n",
       "      <td>NaN</td>\n",
       "    </tr>\n",
       "    <tr>\n",
       "      <th>Horsepower</th>\n",
       "      <td>0.009757</td>\n",
       "      <td>0.786765</td>\n",
       "      <td>-0.257869</td>\n",
       "      <td>1.000000</td>\n",
       "      <td>0.063163</td>\n",
       "      <td>-0.815921</td>\n",
       "      <td>-0.798512</td>\n",
       "      <td>0.799901</td>\n",
       "      <td>NaN</td>\n",
       "      <td>NaN</td>\n",
       "    </tr>\n",
       "    <tr>\n",
       "      <th>Peak rpm</th>\n",
       "      <td>-0.134432</td>\n",
       "      <td>-0.263262</td>\n",
       "      <td>0.141565</td>\n",
       "      <td>0.063163</td>\n",
       "      <td>1.000000</td>\n",
       "      <td>-0.052355</td>\n",
       "      <td>-0.039962</td>\n",
       "      <td>0.012753</td>\n",
       "      <td>NaN</td>\n",
       "      <td>NaN</td>\n",
       "    </tr>\n",
       "    <tr>\n",
       "      <th>City mpg</th>\n",
       "      <td>-0.092691</td>\n",
       "      <td>-0.639240</td>\n",
       "      <td>0.375383</td>\n",
       "      <td>-0.815921</td>\n",
       "      <td>-0.052355</td>\n",
       "      <td>1.000000</td>\n",
       "      <td>0.972127</td>\n",
       "      <td>-0.803378</td>\n",
       "      <td>NaN</td>\n",
       "      <td>NaN</td>\n",
       "    </tr>\n",
       "    <tr>\n",
       "      <th>Highway mpg</th>\n",
       "      <td>-0.100331</td>\n",
       "      <td>-0.629073</td>\n",
       "      <td>0.373054</td>\n",
       "      <td>-0.798512</td>\n",
       "      <td>-0.039962</td>\n",
       "      <td>0.972127</td>\n",
       "      <td>1.000000</td>\n",
       "      <td>-0.788330</td>\n",
       "      <td>NaN</td>\n",
       "      <td>NaN</td>\n",
       "    </tr>\n",
       "    <tr>\n",
       "      <th>Price</th>\n",
       "      <td>0.133750</td>\n",
       "      <td>0.704516</td>\n",
       "      <td>-0.157440</td>\n",
       "      <td>0.799901</td>\n",
       "      <td>0.012753</td>\n",
       "      <td>-0.803378</td>\n",
       "      <td>-0.788330</td>\n",
       "      <td>1.000000</td>\n",
       "      <td>NaN</td>\n",
       "      <td>NaN</td>\n",
       "    </tr>\n",
       "    <tr>\n",
       "      <th>Diesel</th>\n",
       "      <td>NaN</td>\n",
       "      <td>NaN</td>\n",
       "      <td>NaN</td>\n",
       "      <td>NaN</td>\n",
       "      <td>NaN</td>\n",
       "      <td>NaN</td>\n",
       "      <td>NaN</td>\n",
       "      <td>NaN</td>\n",
       "      <td>NaN</td>\n",
       "      <td>NaN</td>\n",
       "    </tr>\n",
       "    <tr>\n",
       "      <th>Gas</th>\n",
       "      <td>NaN</td>\n",
       "      <td>NaN</td>\n",
       "      <td>NaN</td>\n",
       "      <td>NaN</td>\n",
       "      <td>NaN</td>\n",
       "      <td>NaN</td>\n",
       "      <td>NaN</td>\n",
       "      <td>NaN</td>\n",
       "      <td>NaN</td>\n",
       "      <td>NaN</td>\n",
       "    </tr>\n",
       "  </tbody>\n",
       "</table>\n",
       "</div>"
      ],
      "text/plain": [
       "                      Doors  Engine size  Compression ratio  Horsepower  \\\n",
       "Doors              1.000000     0.100324          -0.145653    0.009757   \n",
       "Engine size        0.100324     1.000000          -0.118217    0.786765   \n",
       "Compression ratio -0.145653    -0.118217           1.000000   -0.257869   \n",
       "Horsepower         0.009757     0.786765          -0.257869    1.000000   \n",
       "Peak rpm          -0.134432    -0.263262           0.141565    0.063163   \n",
       "City mpg          -0.092691    -0.639240           0.375383   -0.815921   \n",
       "Highway mpg       -0.100331    -0.629073           0.373054   -0.798512   \n",
       "Price              0.133750     0.704516          -0.157440    0.799901   \n",
       "Diesel                  NaN          NaN                NaN         NaN   \n",
       "Gas                     NaN          NaN                NaN         NaN   \n",
       "\n",
       "                   Peak rpm  City mpg  Highway mpg     Price  Diesel  Gas  \n",
       "Doors             -0.134432 -0.092691    -0.100331  0.133750     NaN  NaN  \n",
       "Engine size       -0.263262 -0.639240    -0.629073  0.704516     NaN  NaN  \n",
       "Compression ratio  0.141565  0.375383     0.373054 -0.157440     NaN  NaN  \n",
       "Horsepower         0.063163 -0.815921    -0.798512  0.799901     NaN  NaN  \n",
       "Peak rpm           1.000000 -0.052355    -0.039962  0.012753     NaN  NaN  \n",
       "City mpg          -0.052355  1.000000     0.972127 -0.803378     NaN  NaN  \n",
       "Highway mpg       -0.039962  0.972127     1.000000 -0.788330     NaN  NaN  \n",
       "Price              0.012753 -0.803378    -0.788330  1.000000     NaN  NaN  \n",
       "Diesel                  NaN       NaN          NaN       NaN     NaN  NaN  \n",
       "Gas                     NaN       NaN          NaN       NaN     NaN  NaN  "
      ]
     },
     "execution_count": 47,
     "metadata": {},
     "output_type": "execute_result"
    },
    {
     "data": {
      "image/png": "[encoded data removed]",
      "text/plain": [
       "<Figure size 864x432 with 2 Axes>"
      ]
     },
     "metadata": {
      "needs_background": "light"
     },
     "output_type": "display_data"
    }
   ],
   "source": [
    "c= df.corr()\n",
    "fig, ax = plt.subplots(figsize=(12, 6))\n",
    "sns.heatmap(c, cmap=\"coolwarm\", annot=True)\n",
    "ax.tick_params(labelsize=15)\n",
    "ax.axis('tight')\n",
    "c"
   ]
  },
  {
   "cell_type": "markdown",
   "metadata": {
    "colab_type": "text",
    "id": "WqFPRda8eEp_"
   },
   "source": [
    "### 7. Plot features."
   ]
  },
  {
   "cell_type": "code",
   "execution_count": 55,
   "metadata": {
    "colab": {
     "base_uri": "https://localhost:8080/",
     "height": 431
    },
    "colab_type": "code",
    "id": "dAnd4DSyeHDb",
    "outputId": "44b04e39-9dc7-40fc-9ddb-b7182f4f6e1f"
   },
   "outputs": [
    {
     "data": {
      "image/png": "[encoded data removed]",
      "text/plain": [
       "<Figure size 720x360 with 1 Axes>"
      ]
     },
     "metadata": {
      "needs_background": "light"
     },
     "output_type": "display_data"
    }
   ],
   "source": [
    "df.Make.value_counts().nlargest(40).plot(kind='bar', figsize=(10,5))\n",
    "plt.xlabel(r\"Make\", fontsize=18)\n",
    "plt.ylabel(r\"Number of cars\", fontsize=18)\n",
    "plt.title(\"Number of cars by make\", fontsize=20)\n",
    "plt.tick_params(labelsize=15)\n",
    "plt.axis('tight');\n",
    "# ax.grid(True)"
   ]
  },
  {
   "cell_type": "code",
   "execution_count": 58,
   "metadata": {},
   "outputs": [
    {
     "data": {
      "text/plain": [
       "<matplotlib.axes._subplots.AxesSubplot at 0x11a880940>"
      ]
     },
     "execution_count": 58,
     "metadata": {},
     "output_type": "execute_result"
    },
    {
     "data": {
      "image/png": "[encoded data removed]",
      "text/plain": [
       "<Figure size 864x504 with 1 Axes>"
      ]
     },
     "metadata": {
      "needs_background": "light"
     },
     "output_type": "display_data"
    }
   ],
   "source": [
    "# Engine size as potential predictor variable of Horsepower\n",
    "fig = plt.figure(figsize=(12,7))\n",
    "sns.regplot(x=\"Engine size\", y=\"Horsepower\", data=df)\n",
    "# plt.ylim(0,)"
   ]
  },
  {
   "cell_type": "markdown",
   "metadata": {},
   "source": [
    "The Pearson Correlation Coefficient is a meassure of how linear is the relation (+ coeff + linear).\n",
    "\n",
    "P-values is a meassure of how strong and statistically significant is the correlation (- P-value + strong the correlation)."
   ]
  },
  {
   "cell_type": "code",
   "execution_count": 67,
   "metadata": {},
   "outputs": [
    {
     "name": "stdout",
     "output_type": "stream",
     "text": [
      "The Pearson Correlation Coefficient is 0.7867651357113649  with a P-value of P = 2.693287004940483e-34\n"
     ]
    }
   ],
   "source": [
    "pearson_coef, p_value = stats.pearsonr(df['Engine size'], df['Horsepower'])\n",
    "print(\"The Pearson Correlation Coefficient is\", pearson_coef, \" with a P-value of P =\", p_value)"
   ]
  },
  {
   "cell_type": "code",
   "execution_count": 59,
   "metadata": {},
   "outputs": [
    {
     "data": {
      "text/plain": [
       "<matplotlib.axes._subplots.AxesSubplot at 0x11a4db978>"
      ]
     },
     "execution_count": 59,
     "metadata": {},
     "output_type": "execute_result"
    },
    {
     "data": {
      "image/png": "[encoded data removed]",
      "text/plain": [
       "<Figure size 864x504 with 1 Axes>"
      ]
     },
     "metadata": {
      "needs_background": "light"
     },
     "output_type": "display_data"
    }
   ],
   "source": [
    "# City mpg as potential predictor variable of Highway mpg\n",
    "fig = plt.figure(figsize=(12,7))\n",
    "sns.regplot(x=\"City mpg\", y=\"Highway mpg\", data=df)\n",
    "# plt.ylim(0,)"
   ]
  },
  {
   "cell_type": "code",
   "execution_count": 69,
   "metadata": {},
   "outputs": [
    {
     "name": "stdout",
     "output_type": "stream",
     "text": [
      "The Pearson Correlation Coefficient is 0.9721269677836317  with a P-value of P = 1.5045941435823202e-99\n"
     ]
    }
   ],
   "source": [
    "pearson_coef, p_value = stats.pearsonr(df['City mpg'], df['Highway mpg'])\n",
    "print(\"The Pearson Correlation Coefficient is\", pearson_coef, \" with a P-value of P =\", p_value)"
   ]
  },
  {
   "cell_type": "markdown",
   "metadata": {},
   "source": [
    "### Categorical variables"
   ]
  },
  {
   "cell_type": "code",
   "execution_count": 61,
   "metadata": {},
   "outputs": [
    {
     "data": {
      "text/plain": [
       "<matplotlib.axes._subplots.AxesSubplot at 0x11a828358>"
      ]
     },
     "execution_count": 61,
     "metadata": {},
     "output_type": "execute_result"
    },
    {
     "data": {
      "image/png": "[encoded data removed]",
      "text/plain": [
       "<Figure size 864x504 with 1 Axes>"
      ]
     },
     "metadata": {
      "needs_background": "light"
     },
     "output_type": "display_data"
    }
   ],
   "source": [
    "fig = plt.figure(figsize=(12,7))\n",
    "sns.boxplot(x=\"Body style\", y=\"Price\", data=df)"
   ]
  },
  {
   "cell_type": "markdown",
   "metadata": {},
   "source": [
    "#### Value counts"
   ]
  },
  {
   "cell_type": "code",
   "execution_count": 63,
   "metadata": {},
   "outputs": [
    {
     "data": {
      "text/html": [
       "<div>\n",
       "<style scoped>\n",
       "    .dataframe tbody tr th:only-of-type {\n",
       "        vertical-align: middle;\n",
       "    }\n",
       "\n",
       "    .dataframe tbody tr th {\n",
       "        vertical-align: top;\n",
       "    }\n",
       "\n",
       "    .dataframe thead th {\n",
       "        text-align: right;\n",
       "    }\n",
       "</style>\n",
       "<table border=\"1\" class=\"dataframe\">\n",
       "  <thead>\n",
       "    <tr style=\"text-align: right;\">\n",
       "      <th></th>\n",
       "      <th>Body style</th>\n",
       "    </tr>\n",
       "  </thead>\n",
       "  <tbody>\n",
       "    <tr>\n",
       "      <th>sedan</th>\n",
       "      <td>69</td>\n",
       "    </tr>\n",
       "    <tr>\n",
       "      <th>hatchback</th>\n",
       "      <td>58</td>\n",
       "    </tr>\n",
       "    <tr>\n",
       "      <th>wagon</th>\n",
       "      <td>22</td>\n",
       "    </tr>\n",
       "    <tr>\n",
       "      <th>hardtop</th>\n",
       "      <td>4</td>\n",
       "    </tr>\n",
       "    <tr>\n",
       "      <th>convertible</th>\n",
       "      <td>4</td>\n",
       "    </tr>\n",
       "  </tbody>\n",
       "</table>\n",
       "</div>"
      ],
      "text/plain": [
       "             Body style\n",
       "sedan                69\n",
       "hatchback            58\n",
       "wagon                22\n",
       "hardtop               4\n",
       "convertible           4"
      ]
     },
     "execution_count": 63,
     "metadata": {},
     "output_type": "execute_result"
    }
   ],
   "source": [
    "df['Body style'].value_counts().to_frame()"
   ]
  },
  {
   "cell_type": "markdown",
   "metadata": {
    "colab_type": "text",
    "id": "WqFPRda8eEp_"
   },
   "source": [
    "### 8. Group by."
   ]
  },
  {
   "cell_type": "code",
   "execution_count": 65,
   "metadata": {},
   "outputs": [
    {
     "data": {
      "text/html": [
       "<div>\n",
       "<style scoped>\n",
       "    .dataframe tbody tr th:only-of-type {\n",
       "        vertical-align: middle;\n",
       "    }\n",
       "\n",
       "    .dataframe tbody tr th {\n",
       "        vertical-align: top;\n",
       "    }\n",
       "\n",
       "    .dataframe thead th {\n",
       "        text-align: right;\n",
       "    }\n",
       "</style>\n",
       "<table border=\"1\" class=\"dataframe\">\n",
       "  <thead>\n",
       "    <tr style=\"text-align: right;\">\n",
       "      <th></th>\n",
       "      <th>Body style</th>\n",
       "      <th>Doors</th>\n",
       "      <th>Engine size</th>\n",
       "      <th>Compression ratio</th>\n",
       "      <th>Horsepower</th>\n",
       "      <th>Peak rpm</th>\n",
       "      <th>City mpg</th>\n",
       "      <th>Highway mpg</th>\n",
       "      <th>Price</th>\n",
       "      <th>Diesel</th>\n",
       "      <th>Gas</th>\n",
       "    </tr>\n",
       "  </thead>\n",
       "  <tbody>\n",
       "    <tr>\n",
       "      <th>0</th>\n",
       "      <td>convertible</td>\n",
       "      <td>2.000000</td>\n",
       "      <td>0.394939</td>\n",
       "      <td>8.950000</td>\n",
       "      <td>107.000000</td>\n",
       "      <td>5075.000000</td>\n",
       "      <td>22.500000</td>\n",
       "      <td>28.250000</td>\n",
       "      <td>14814.750000</td>\n",
       "      <td>0.0</td>\n",
       "      <td>1.0</td>\n",
       "    </tr>\n",
       "    <tr>\n",
       "      <th>1</th>\n",
       "      <td>hardtop</td>\n",
       "      <td>2.000000</td>\n",
       "      <td>0.410276</td>\n",
       "      <td>9.325000</td>\n",
       "      <td>104.250000</td>\n",
       "      <td>4900.000000</td>\n",
       "      <td>25.750000</td>\n",
       "      <td>31.750000</td>\n",
       "      <td>9384.000000</td>\n",
       "      <td>0.0</td>\n",
       "      <td>1.0</td>\n",
       "    </tr>\n",
       "    <tr>\n",
       "      <th>2</th>\n",
       "      <td>hatchback</td>\n",
       "      <td>2.310345</td>\n",
       "      <td>0.335942</td>\n",
       "      <td>8.984828</td>\n",
       "      <td>93.948276</td>\n",
       "      <td>5236.637931</td>\n",
       "      <td>26.500000</td>\n",
       "      <td>32.344828</td>\n",
       "      <td>9667.862069</td>\n",
       "      <td>0.0</td>\n",
       "      <td>1.0</td>\n",
       "    </tr>\n",
       "    <tr>\n",
       "      <th>3</th>\n",
       "      <td>sedan</td>\n",
       "      <td>3.739130</td>\n",
       "      <td>0.364631</td>\n",
       "      <td>8.895652</td>\n",
       "      <td>98.666667</td>\n",
       "      <td>5184.057971</td>\n",
       "      <td>24.884058</td>\n",
       "      <td>30.724638</td>\n",
       "      <td>11916.724638</td>\n",
       "      <td>0.0</td>\n",
       "      <td>1.0</td>\n",
       "    </tr>\n",
       "    <tr>\n",
       "      <th>4</th>\n",
       "      <td>wagon</td>\n",
       "      <td>4.000000</td>\n",
       "      <td>0.363776</td>\n",
       "      <td>8.836364</td>\n",
       "      <td>97.136364</td>\n",
       "      <td>5128.409091</td>\n",
       "      <td>24.045455</td>\n",
       "      <td>29.227273</td>\n",
       "      <td>11368.909091</td>\n",
       "      <td>0.0</td>\n",
       "      <td>1.0</td>\n",
       "    </tr>\n",
       "  </tbody>\n",
       "</table>\n",
       "</div>"
      ],
      "text/plain": [
       "    Body style     Doors  Engine size  Compression ratio  Horsepower  \\\n",
       "0  convertible  2.000000     0.394939           8.950000  107.000000   \n",
       "1      hardtop  2.000000     0.410276           9.325000  104.250000   \n",
       "2    hatchback  2.310345     0.335942           8.984828   93.948276   \n",
       "3        sedan  3.739130     0.364631           8.895652   98.666667   \n",
       "4        wagon  4.000000     0.363776           8.836364   97.136364   \n",
       "\n",
       "      Peak rpm   City mpg  Highway mpg         Price  Diesel  Gas  \n",
       "0  5075.000000  22.500000    28.250000  14814.750000     0.0  1.0  \n",
       "1  4900.000000  25.750000    31.750000   9384.000000     0.0  1.0  \n",
       "2  5236.637931  26.500000    32.344828   9667.862069     0.0  1.0  \n",
       "3  5184.057971  24.884058    30.724638  11916.724638     0.0  1.0  \n",
       "4  5128.409091  24.045455    29.227273  11368.909091     0.0  1.0  "
      ]
     },
     "execution_count": 65,
     "metadata": {},
     "output_type": "execute_result"
    }
   ],
   "source": [
    "# Group and shows mean of group\n",
    "df.groupby(['Body style'],as_index=False).mean()"
   ]
  },
  {
   "cell_type": "markdown",
   "metadata": {},
   "source": [
    "### 9. ANOVA: Analysis of Variance.\n",
    "\n",
    "The Analysis of Variance (ANOVA) is a statistical method used to test whether there are significant differences between the means of two or more groups. ANOVA returns two parameters:\n",
    "\n",
    "F-test score: ANOVA assumes the means of all groups are the same, calculates how much the actual means deviate from the assumption, and reports it as the F-test score. A larger score means there is a larger difference between the means.\n",
    "\n",
    "P-value: P-value tells how statistically significant is our calculated score value."
   ]
  },
  {
   "cell_type": "code",
   "execution_count": null,
   "metadata": {},
   "outputs": [],
   "source": []
  },
  {
   "cell_type": "code",
   "execution_count": 75,
   "metadata": {
    "collapsed": false,
    "jupyter": {
     "outputs_hidden": false
    }
   },
   "outputs": [
    {
     "name": "stdout",
     "output_type": "stream",
     "text": [
      "ANOVA results: F= 0.6083835528565865 , P = 0.5464046178508866\n"
     ]
    }
   ],
   "source": [
    "group = df[['Body style', 'Price']].groupby(['Body style'])\n",
    "\n",
    "# ANOVA\n",
    "f_val, p_val = stats.f_oneway(group.get_group('sedan')['Price'], group.get_group('wagon')['Price'], group.get_group('hardtop')['Price'])  \n",
    " \n",
    "print( \"ANOVA results: F=\", f_val, \", P =\", p_val) "
   ]
  },
  {
   "cell_type": "code",
   "execution_count": null,
   "metadata": {},
   "outputs": [],
   "source": []
  },
  {
   "cell_type": "code",
   "execution_count": null,
   "metadata": {},
   "outputs": [],
   "source": []
  },
  {
   "cell_type": "code",
   "execution_count": null,
   "metadata": {},
   "outputs": [],
   "source": []
  }
 ],
 "metadata": {
  "kernelspec": {
   "display_name": "Python 3",
   "language": "python",
   "name": "python3"
  },
  "language_info": {
   "codemirror_mode": {
    "name": "ipython",
    "version": 3
   },
   "file_extension": ".py",
   "mimetype": "text/x-python",
   "name": "python",
   "nbconvert_exporter": "python",
   "pygments_lexer": "ipython3",
   "version": "3.7.3"
  }
 },
 "nbformat": 4,
 "nbformat_minor": 4
}
