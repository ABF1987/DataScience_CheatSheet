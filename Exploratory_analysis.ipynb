{
 "cells": [
  {
   "cell_type": "markdown",
   "metadata": {},
   "source": [
    "## Exploratory data analysis in Pandas.\n",
    "\n",
    "**Initial steps:**\n",
    "\n",
    "1. Import required libraries.\n",
    "\n",
    "2. Load the data.\n",
    "\n",
    "3. Detecting Outliers.\n",
    "\n",
    "4. DataFrame info.\n",
    "\n",
    "5. Descriptive Statistical Analysis.\n",
    "\n",
    "6. Check for correlations.\n",
    "\n",
    "7. Plot features.\n",
    "\n",
    "8. Group by.\n",
    "\n",
    "9. ANOVA: Analysis of Variance."
   ]
  },
  {
   "cell_type": "code",
   "execution_count": null,
   "metadata": {},
   "outputs": [],
   "source": []
  },
  {
   "cell_type": "markdown",
   "metadata": {},
   "source": [
    "### 1. Import required libraries."
   ]
  },
  {
   "cell_type": "code",
   "execution_count": 1,
   "metadata": {},
   "outputs": [],
   "source": [
    "import pandas as pd\n",
    "import numpy as np\n",
    "import matplotlib.pyplot as plt\n",
    "import seaborn as sns\n",
    "from scipy import stats"
   ]
  },
  {
   "cell_type": "markdown",
   "metadata": {},
   "source": [
    "### 2. Load the data."
   ]
  },
  {
   "cell_type": "code",
   "execution_count": 2,
   "metadata": {
    "collapsed": false,
    "jupyter": {
     "outputs_hidden": false
    }
   },
   "outputs": [
    {
     "data": {
      "text/html": [
       "<div>\n",
       "<style scoped>\n",
       "    .dataframe tbody tr th:only-of-type {\n",
       "        vertical-align: middle;\n",
       "    }\n",
       "\n",
       "    .dataframe tbody tr th {\n",
       "        vertical-align: top;\n",
       "    }\n",
       "\n",
       "    .dataframe thead th {\n",
       "        text-align: right;\n",
       "    }\n",
       "</style>\n",
       "<table border=\"1\" class=\"dataframe\">\n",
       "  <thead>\n",
       "    <tr style=\"text-align: right;\">\n",
       "      <th></th>\n",
       "      <th>Make</th>\n",
       "      <th>Doors</th>\n",
       "      <th>Body style</th>\n",
       "      <th>Num of cylinders</th>\n",
       "      <th>Engine size</th>\n",
       "      <th>Compression ratio</th>\n",
       "      <th>Horsepower</th>\n",
       "      <th>Peak rpm</th>\n",
       "      <th>City mpg</th>\n",
       "      <th>Highway mpg</th>\n",
       "      <th>Price</th>\n",
       "      <th>Horsepower binned</th>\n",
       "      <th>Diesel</th>\n",
       "      <th>Gas</th>\n",
       "    </tr>\n",
       "  </thead>\n",
       "  <tbody>\n",
       "    <tr>\n",
       "      <th>0</th>\n",
       "      <td>SUBARU</td>\n",
       "      <td>2</td>\n",
       "      <td>hatchback</td>\n",
       "      <td>four</td>\n",
       "      <td>0.297546</td>\n",
       "      <td>9.0</td>\n",
       "      <td>69</td>\n",
       "      <td>4900</td>\n",
       "      <td>31</td>\n",
       "      <td>36</td>\n",
       "      <td>5118.0</td>\n",
       "      <td>Low</td>\n",
       "      <td>0</td>\n",
       "      <td>1</td>\n",
       "    </tr>\n",
       "    <tr>\n",
       "      <th>1</th>\n",
       "      <td>CHEVROLET</td>\n",
       "      <td>2</td>\n",
       "      <td>hatchback</td>\n",
       "      <td>three</td>\n",
       "      <td>0.187117</td>\n",
       "      <td>9.5</td>\n",
       "      <td>48</td>\n",
       "      <td>5100</td>\n",
       "      <td>47</td>\n",
       "      <td>53</td>\n",
       "      <td>5151.0</td>\n",
       "      <td>Low</td>\n",
       "      <td>0</td>\n",
       "      <td>1</td>\n",
       "    </tr>\n",
       "    <tr>\n",
       "      <th>2</th>\n",
       "      <td>MAZDA</td>\n",
       "      <td>2</td>\n",
       "      <td>hatchback</td>\n",
       "      <td>four</td>\n",
       "      <td>0.279141</td>\n",
       "      <td>9.0</td>\n",
       "      <td>68</td>\n",
       "      <td>5000</td>\n",
       "      <td>30</td>\n",
       "      <td>31</td>\n",
       "      <td>5195.0</td>\n",
       "      <td>Low</td>\n",
       "      <td>0</td>\n",
       "      <td>1</td>\n",
       "    </tr>\n",
       "    <tr>\n",
       "      <th>3</th>\n",
       "      <td>TOYOTA</td>\n",
       "      <td>2</td>\n",
       "      <td>hatchback</td>\n",
       "      <td>four</td>\n",
       "      <td>0.282209</td>\n",
       "      <td>9.0</td>\n",
       "      <td>62</td>\n",
       "      <td>4800</td>\n",
       "      <td>35</td>\n",
       "      <td>39</td>\n",
       "      <td>5348.0</td>\n",
       "      <td>Low</td>\n",
       "      <td>0</td>\n",
       "      <td>1</td>\n",
       "    </tr>\n",
       "    <tr>\n",
       "      <th>4</th>\n",
       "      <td>MITSUBISHI</td>\n",
       "      <td>2</td>\n",
       "      <td>hatchback</td>\n",
       "      <td>four</td>\n",
       "      <td>0.282209</td>\n",
       "      <td>9.4</td>\n",
       "      <td>68</td>\n",
       "      <td>5500</td>\n",
       "      <td>37</td>\n",
       "      <td>41</td>\n",
       "      <td>5389.0</td>\n",
       "      <td>Low</td>\n",
       "      <td>0</td>\n",
       "      <td>1</td>\n",
       "    </tr>\n",
       "  </tbody>\n",
       "</table>\n",
       "</div>"
      ],
      "text/plain": [
       "         Make  Doors Body style Num of cylinders  Engine size  \\\n",
       "0      SUBARU      2  hatchback             four     0.297546   \n",
       "1   CHEVROLET      2  hatchback            three     0.187117   \n",
       "2       MAZDA      2  hatchback             four     0.279141   \n",
       "3      TOYOTA      2  hatchback             four     0.282209   \n",
       "4  MITSUBISHI      2  hatchback             four     0.282209   \n",
       "\n",
       "   Compression ratio  Horsepower  Peak rpm  City mpg  Highway mpg   Price  \\\n",
       "0                9.0          69      4900        31           36  5118.0   \n",
       "1                9.5          48      5100        47           53  5151.0   \n",
       "2                9.0          68      5000        30           31  5195.0   \n",
       "3                9.0          62      4800        35           39  5348.0   \n",
       "4                9.4          68      5500        37           41  5389.0   \n",
       "\n",
       "  Horsepower binned  Diesel  Gas  \n",
       "0               Low       0    1  \n",
       "1               Low       0    1  \n",
       "2               Low       0    1  \n",
       "3               Low       0    1  \n",
       "4               Low       0    1  "
      ]
     },
     "execution_count": 2,
     "metadata": {},
     "output_type": "execute_result"
    }
   ],
   "source": [
    "# Import data from csv to a Pandas DataFrame\n",
    "\n",
    "df = pd.read_csv('Data/Cars_CleanData.csv')\n",
    "df.head()"
   ]
  },
  {
   "cell_type": "code",
   "execution_count": 3,
   "metadata": {},
   "outputs": [
    {
     "name": "stdout",
     "output_type": "stream",
     "text": [
      "Null fields in each column:\n",
      "\n",
      "Make                 0\n",
      "Doors                0\n",
      "Body style           0\n",
      "Num of cylinders     0\n",
      "Engine size          0\n",
      "Compression ratio    0\n",
      "Horsepower           0\n",
      "Peak rpm             0\n",
      "City mpg             0\n",
      "Highway mpg          0\n",
      "Price                0\n",
      "Horsepower binned    0\n",
      "Diesel               0\n",
      "Gas                  0\n",
      "dtype: int64\n"
     ]
    }
   ],
   "source": [
    "# Check for null values.\n",
    "print('Null fields in each column:\\n')\n",
    "print(df.isnull().sum())"
   ]
  },
  {
   "cell_type": "markdown",
   "metadata": {
    "colab_type": "text",
    "id": "8Py3sQc_ZxyU"
   },
   "source": [
    "## 3. Detecting Outliers/\n",
    "\n",
    "Outliers can lead to less accurate models, hence it's a good idea to find them and evaluate if it is convenient to remove them. With box plots the IQR (InterQuartile Range) can be visualized. Points outside the box are outliers. "
   ]
  },
  {
   "cell_type": "code",
   "execution_count": 4,
   "metadata": {},
   "outputs": [
    {
     "data": {
      "text/plain": [
       "<matplotlib.axes._subplots.AxesSubplot at 0x11d289f60>"
      ]
     },
     "execution_count": 4,
     "metadata": {},
     "output_type": "execute_result"
    },
    {
     "data": {
      "image/png": "[encoded data removed]",
      "text/plain": [
       "<Figure size 432x288 with 1 Axes>"
      ]
     },
     "metadata": {
      "needs_background": "light"
     },
     "output_type": "display_data"
    }
   ],
   "source": [
    "sns.boxplot(x=df['Engine size'])"
   ]
  },
  {
   "cell_type": "code",
   "execution_count": 5,
   "metadata": {},
   "outputs": [
    {
     "data": {
      "text/plain": [
       "<matplotlib.axes._subplots.AxesSubplot at 0x11f36a4a8>"
      ]
     },
     "execution_count": 5,
     "metadata": {},
     "output_type": "execute_result"
    },
    {
     "data": {
      "image/png": "[encoded data removed]",
      "text/plain": [
       "<Figure size 432x288 with 1 Axes>"
      ]
     },
     "metadata": {
      "needs_background": "light"
     },
     "output_type": "display_data"
    }
   ],
   "source": [
    "sns.boxplot(x=df['Compression ratio'])"
   ]
  },
  {
   "cell_type": "code",
   "execution_count": 6,
   "metadata": {},
   "outputs": [
    {
     "data": {
      "text/plain": [
       "<matplotlib.axes._subplots.AxesSubplot at 0x11f450400>"
      ]
     },
     "execution_count": 6,
     "metadata": {},
     "output_type": "execute_result"
    },
    {
     "data": {
      "image/png": "[encoded data removed]",
      "text/plain": [
       "<Figure size 432x288 with 1 Axes>"
      ]
     },
     "metadata": {
      "needs_background": "light"
     },
     "output_type": "display_data"
    }
   ],
   "source": [
    "sns.boxplot(x=df['Horsepower'])"
   ]
  },
  {
   "cell_type": "code",
   "execution_count": 7,
   "metadata": {},
   "outputs": [
    {
     "data": {
      "text/plain": [
       "<matplotlib.axes._subplots.AxesSubplot at 0x11f4b2400>"
      ]
     },
     "execution_count": 7,
     "metadata": {},
     "output_type": "execute_result"
    },
    {
     "data": {
      "image/png": "[encoded data removed]",
      "text/plain": [
       "<Figure size 432x288 with 1 Axes>"
      ]
     },
     "metadata": {
      "needs_background": "light"
     },
     "output_type": "display_data"
    }
   ],
   "source": [
    "# Removal of Horsepower outliers\n",
    "df = df[df['Horsepower']<190]\n",
    "sns.boxplot(x=df['Horsepower'])"
   ]
  },
  {
   "cell_type": "code",
   "execution_count": 8,
   "metadata": {},
   "outputs": [
    {
     "data": {
      "text/plain": [
       "<matplotlib.axes._subplots.AxesSubplot at 0x11f50c1d0>"
      ]
     },
     "execution_count": 8,
     "metadata": {},
     "output_type": "execute_result"
    },
    {
     "data": {
      "image/png": "[encoded data removed]",
      "text/plain": [
       "<Figure size 432x288 with 1 Axes>"
      ]
     },
     "metadata": {
      "needs_background": "light"
     },
     "output_type": "display_data"
    }
   ],
   "source": [
    "sns.boxplot(x=df['Peak rpm'])"
   ]
  },
  {
   "cell_type": "code",
   "execution_count": 9,
   "metadata": {},
   "outputs": [
    {
     "data": {
      "text/plain": [
       "<matplotlib.axes._subplots.AxesSubplot at 0x11f581b00>"
      ]
     },
     "execution_count": 9,
     "metadata": {},
     "output_type": "execute_result"
    },
    {
     "data": {
      "image/png": "[encoded data removed]",
      "text/plain": [
       "<Figure size 432x288 with 1 Axes>"
      ]
     },
     "metadata": {
      "needs_background": "light"
     },
     "output_type": "display_data"
    }
   ],
   "source": [
    "# Removal of Peak rpm outliers\n",
    "df = df[df['Peak rpm']<6500]\n",
    "sns.boxplot(x=df['Peak rpm'])"
   ]
  },
  {
   "cell_type": "code",
   "execution_count": 10,
   "metadata": {},
   "outputs": [
    {
     "data": {
      "text/plain": [
       "<matplotlib.axes._subplots.AxesSubplot at 0x11f5daeb8>"
      ]
     },
     "execution_count": 10,
     "metadata": {},
     "output_type": "execute_result"
    },
    {
     "data": {
      "image/png": "[encoded data removed]",
      "text/plain": [
       "<Figure size 432x288 with 1 Axes>"
      ]
     },
     "metadata": {
      "needs_background": "light"
     },
     "output_type": "display_data"
    }
   ],
   "source": [
    "sns.boxplot(x=df['City mpg'])"
   ]
  },
  {
   "cell_type": "code",
   "execution_count": 11,
   "metadata": {},
   "outputs": [
    {
     "data": {
      "text/plain": [
       "<matplotlib.axes._subplots.AxesSubplot at 0x11f642898>"
      ]
     },
     "execution_count": 11,
     "metadata": {},
     "output_type": "execute_result"
    },
    {
     "data": {
      "image/png": "[encoded data removed]",
      "text/plain": [
       "<Figure size 432x288 with 1 Axes>"
      ]
     },
     "metadata": {
      "needs_background": "light"
     },
     "output_type": "display_data"
    }
   ],
   "source": [
    "# Removal of city mpg outliers\n",
    "df = df[df['City mpg']<45]\n",
    "sns.boxplot(x=df['City mpg'])"
   ]
  },
  {
   "cell_type": "code",
   "execution_count": 12,
   "metadata": {},
   "outputs": [
    {
     "data": {
      "text/plain": [
       "<matplotlib.axes._subplots.AxesSubplot at 0x11f698898>"
      ]
     },
     "execution_count": 12,
     "metadata": {},
     "output_type": "execute_result"
    },
    {
     "data": {
      "image/png": "[encoded data removed]",
      "text/plain": [
       "<Figure size 432x288 with 1 Axes>"
      ]
     },
     "metadata": {
      "needs_background": "light"
     },
     "output_type": "display_data"
    }
   ],
   "source": [
    "sns.boxplot(x=df['Highway mpg'])"
   ]
  },
  {
   "cell_type": "code",
   "execution_count": 13,
   "metadata": {},
   "outputs": [
    {
     "data": {
      "text/plain": [
       "<matplotlib.axes._subplots.AxesSubplot at 0x11f4b82b0>"
      ]
     },
     "execution_count": 13,
     "metadata": {},
     "output_type": "execute_result"
    },
    {
     "data": {
      "image/png": "[encoded data removed]",
      "text/plain": [
       "<Figure size 432x288 with 1 Axes>"
      ]
     },
     "metadata": {
      "needs_background": "light"
     },
     "output_type": "display_data"
    }
   ],
   "source": [
    "sns.boxplot(x=df['Price'])"
   ]
  },
  {
   "cell_type": "markdown",
   "metadata": {},
   "source": [
    "A more automatized method is the following:"
   ]
  },
  {
   "cell_type": "code",
   "execution_count": 14,
   "metadata": {},
   "outputs": [
    {
     "data": {
      "text/plain": [
       "(191, 14)"
      ]
     },
     "execution_count": 14,
     "metadata": {},
     "output_type": "execute_result"
    }
   ],
   "source": [
    "df.shape"
   ]
  },
  {
   "cell_type": "code",
   "execution_count": 15,
   "metadata": {},
   "outputs": [
    {
     "name": "stdout",
     "output_type": "stream",
     "text": [
      "Doors                   2.000000\n",
      "Engine size             0.133436\n",
      "Compression ratio       0.900000\n",
      "Horsepower             46.000000\n",
      "Peak rpm              700.000000\n",
      "City mpg               10.500000\n",
      "Highway mpg             9.000000\n",
      "Price                8432.500000\n",
      "Diesel                  0.000000\n",
      "Gas                     0.000000\n",
      "dtype: float64\n"
     ]
    }
   ],
   "source": [
    "Q1 = df.quantile(0.25)\n",
    "Q3 = df.quantile(0.75)\n",
    "IQR = Q3 - Q1\n",
    "print(IQR)"
   ]
  },
  {
   "cell_type": "code",
   "execution_count": 16,
   "metadata": {},
   "outputs": [
    {
     "data": {
      "text/plain": [
       "(157, 14)"
      ]
     },
     "execution_count": 16,
     "metadata": {},
     "output_type": "execute_result"
    }
   ],
   "source": [
    "df = df[~((df < (Q1 - 1.5 * IQR)) |(df > (Q3 + 1.5 * IQR))).any(axis=1)]\n",
    "df.shape"
   ]
  },
  {
   "cell_type": "markdown",
   "metadata": {},
   "source": [
    "34 rows were removed. This method removes rows which values are below 1.5 IQR belor Q1 (range from minimum to 25% of the values) or above Q3 (range from minimum to 75% of the values)."
   ]
  },
  {
   "cell_type": "markdown",
   "metadata": {},
   "source": [
    "### 4. DataFrame info."
   ]
  },
  {
   "cell_type": "code",
   "execution_count": 17,
   "metadata": {
    "collapsed": false,
    "jupyter": {
     "outputs_hidden": false
    }
   },
   "outputs": [
    {
     "data": {
      "text/plain": [
       "Index(['Make', 'Doors', 'Body style', 'Num of cylinders', 'Engine size',\n",
       "       'Compression ratio', 'Horsepower', 'Peak rpm', 'City mpg',\n",
       "       'Highway mpg', 'Price', 'Horsepower binned', 'Diesel', 'Gas'],\n",
       "      dtype='object')"
      ]
     },
     "execution_count": 17,
     "metadata": {},
     "output_type": "execute_result"
    }
   ],
   "source": [
    "# Extract headers titles\n",
    "df.columns"
   ]
  },
  {
   "cell_type": "code",
   "execution_count": 18,
   "metadata": {},
   "outputs": [
    {
     "data": {
      "text/plain": [
       "array(['SUBARU', 'MAZDA', 'TOYOTA', 'MITSUBISHI', 'HONDA', 'NISSAN',\n",
       "       'PLYMOUTH', 'DODGE', 'CHEVROLET', 'ISUZU', 'VOLKSWAGEN', 'RENAULT',\n",
       "       'SAAB', 'PEUGOT', 'VOLVO', 'ALFA-ROMERO', 'AUDI', 'BMW', 'MERCURY',\n",
       "       'PORSCHE'], dtype=object)"
      ]
     },
     "execution_count": 18,
     "metadata": {},
     "output_type": "execute_result"
    }
   ],
   "source": [
    "# Get all unique values of a specific column\n",
    "df['Make'].unique()"
   ]
  },
  {
   "cell_type": "code",
   "execution_count": 19,
   "metadata": {
    "collapsed": false,
    "jupyter": {
     "outputs_hidden": false
    }
   },
   "outputs": [
    {
     "data": {
      "text/plain": [
       "<bound method DataFrame.info of            Make  Doors Body style Num of cylinders  Engine size  \\\n",
       "0        SUBARU      2  hatchback             four     0.297546   \n",
       "2         MAZDA      2  hatchback             four     0.279141   \n",
       "3        TOYOTA      2  hatchback             four     0.282209   \n",
       "4    MITSUBISHI      2  hatchback             four     0.282209   \n",
       "5         HONDA      2  hatchback             four     0.242331   \n",
       "..          ...    ...        ...              ...          ...   \n",
       "178       VOLVO      4      sedan              six     0.530675   \n",
       "179     PORSCHE      2  hatchback             four     0.463190   \n",
       "181       VOLVO      4      sedan             four     0.432515   \n",
       "182        AUDI      4      sedan             five     0.401840   \n",
       "183         BMW      4      sedan              six     0.503067   \n",
       "\n",
       "     Compression ratio  Horsepower  Peak rpm  City mpg  Highway mpg    Price  \\\n",
       "0                  9.0          69      4900        31           36   5118.0   \n",
       "2                  9.0          68      5000        30           31   5195.0   \n",
       "3                  9.0          62      4800        35           39   5348.0   \n",
       "4                  9.4          68      5500        37           41   5389.0   \n",
       "5                 10.1          60      5500        38           42   5399.0   \n",
       "..                 ...         ...       ...       ...          ...      ...   \n",
       "178                8.8         134      5500        18           23  21485.0   \n",
       "179                9.5         143      5500        19           27  22018.0   \n",
       "181                9.5         114      5400        19           25  22625.0   \n",
       "182                8.3         140      5500        17           20  23875.0   \n",
       "183                9.0         121      4250        20           25  24565.0   \n",
       "\n",
       "    Horsepower binned  Diesel  Gas  \n",
       "0                 Low       0    1  \n",
       "2                 Low       0    1  \n",
       "3                 Low       0    1  \n",
       "4                 Low       0    1  \n",
       "5                 Low       0    1  \n",
       "..                ...     ...  ...  \n",
       "178            Medium       0    1  \n",
       "179            Medium       0    1  \n",
       "181               Low       0    1  \n",
       "182            Medium       0    1  \n",
       "183            Medium       0    1  \n",
       "\n",
       "[157 rows x 14 columns]>"
      ]
     },
     "execution_count": 19,
     "metadata": {},
     "output_type": "execute_result"
    }
   ],
   "source": [
    "# Get a concise summary of your DataFrame\n",
    "df.info"
   ]
  },
  {
   "cell_type": "markdown",
   "metadata": {},
   "source": [
    "### 5. Descriptive Statistical Analysis.\n",
    "\n",
    "This will show:\n",
    "\n",
    "+ The count of that variable.\n",
    "+ The mean.\n",
    "+ The standard deviation (std).\n",
    "+ The minimum value.\n",
    "+ The IQR (Interquartile Range: 25%, 50% and 75%).\n",
    "+ The maximum value."
   ]
  },
  {
   "cell_type": "code",
   "execution_count": 20,
   "metadata": {
    "collapsed": false,
    "jupyter": {
     "outputs_hidden": false
    }
   },
   "outputs": [
    {
     "data": {
      "text/html": [
       "<div>\n",
       "<style scoped>\n",
       "    .dataframe tbody tr th:only-of-type {\n",
       "        vertical-align: middle;\n",
       "    }\n",
       "\n",
       "    .dataframe tbody tr th {\n",
       "        vertical-align: top;\n",
       "    }\n",
       "\n",
       "    .dataframe thead th {\n",
       "        text-align: right;\n",
       "    }\n",
       "</style>\n",
       "<table border=\"1\" class=\"dataframe\">\n",
       "  <thead>\n",
       "    <tr style=\"text-align: right;\">\n",
       "      <th></th>\n",
       "      <th>Doors</th>\n",
       "      <th>Engine size</th>\n",
       "      <th>Compression ratio</th>\n",
       "      <th>Horsepower</th>\n",
       "      <th>Peak rpm</th>\n",
       "      <th>City mpg</th>\n",
       "      <th>Highway mpg</th>\n",
       "      <th>Price</th>\n",
       "      <th>Diesel</th>\n",
       "      <th>Gas</th>\n",
       "    </tr>\n",
       "  </thead>\n",
       "  <tbody>\n",
       "    <tr>\n",
       "      <th>count</th>\n",
       "      <td>157.000000</td>\n",
       "      <td>157.000000</td>\n",
       "      <td>157.000000</td>\n",
       "      <td>157.000000</td>\n",
       "      <td>157.000000</td>\n",
       "      <td>157.000000</td>\n",
       "      <td>157.000000</td>\n",
       "      <td>157.000000</td>\n",
       "      <td>157.0</td>\n",
       "      <td>157.0</td>\n",
       "    </tr>\n",
       "    <tr>\n",
       "      <th>mean</th>\n",
       "      <td>3.159236</td>\n",
       "      <td>0.355848</td>\n",
       "      <td>8.932611</td>\n",
       "      <td>97.063694</td>\n",
       "      <td>5185.668790</td>\n",
       "      <td>25.324841</td>\n",
       "      <td>31.076433</td>\n",
       "      <td>11018.477707</td>\n",
       "      <td>0.0</td>\n",
       "      <td>1.0</td>\n",
       "    </tr>\n",
       "    <tr>\n",
       "      <th>std</th>\n",
       "      <td>0.990400</td>\n",
       "      <td>0.076160</td>\n",
       "      <td>0.530368</td>\n",
       "      <td>28.131031</td>\n",
       "      <td>411.252034</td>\n",
       "      <td>5.245531</td>\n",
       "      <td>5.413115</td>\n",
       "      <td>4562.908291</td>\n",
       "      <td>0.0</td>\n",
       "      <td>0.0</td>\n",
       "    </tr>\n",
       "    <tr>\n",
       "      <th>min</th>\n",
       "      <td>2.000000</td>\n",
       "      <td>0.214724</td>\n",
       "      <td>7.500000</td>\n",
       "      <td>60.000000</td>\n",
       "      <td>4200.000000</td>\n",
       "      <td>16.000000</td>\n",
       "      <td>20.000000</td>\n",
       "      <td>5118.000000</td>\n",
       "      <td>0.0</td>\n",
       "      <td>1.0</td>\n",
       "    </tr>\n",
       "    <tr>\n",
       "      <th>25%</th>\n",
       "      <td>2.000000</td>\n",
       "      <td>0.297546</td>\n",
       "      <td>8.700000</td>\n",
       "      <td>70.000000</td>\n",
       "      <td>4800.000000</td>\n",
       "      <td>21.000000</td>\n",
       "      <td>27.000000</td>\n",
       "      <td>7463.000000</td>\n",
       "      <td>0.0</td>\n",
       "      <td>1.0</td>\n",
       "    </tr>\n",
       "    <tr>\n",
       "      <th>50%</th>\n",
       "      <td>4.000000</td>\n",
       "      <td>0.337423</td>\n",
       "      <td>9.000000</td>\n",
       "      <td>92.000000</td>\n",
       "      <td>5200.000000</td>\n",
       "      <td>25.000000</td>\n",
       "      <td>31.000000</td>\n",
       "      <td>9295.000000</td>\n",
       "      <td>0.0</td>\n",
       "      <td>1.0</td>\n",
       "    </tr>\n",
       "    <tr>\n",
       "      <th>75%</th>\n",
       "      <td>4.000000</td>\n",
       "      <td>0.398773</td>\n",
       "      <td>9.310000</td>\n",
       "      <td>114.000000</td>\n",
       "      <td>5500.000000</td>\n",
       "      <td>30.000000</td>\n",
       "      <td>34.000000</td>\n",
       "      <td>13950.000000</td>\n",
       "      <td>0.0</td>\n",
       "      <td>1.0</td>\n",
       "    </tr>\n",
       "    <tr>\n",
       "      <th>max</th>\n",
       "      <td>4.000000</td>\n",
       "      <td>0.555215</td>\n",
       "      <td>10.100000</td>\n",
       "      <td>175.000000</td>\n",
       "      <td>6000.000000</td>\n",
       "      <td>38.000000</td>\n",
       "      <td>47.000000</td>\n",
       "      <td>24565.000000</td>\n",
       "      <td>0.0</td>\n",
       "      <td>1.0</td>\n",
       "    </tr>\n",
       "  </tbody>\n",
       "</table>\n",
       "</div>"
      ],
      "text/plain": [
       "            Doors  Engine size  Compression ratio  Horsepower     Peak rpm  \\\n",
       "count  157.000000   157.000000         157.000000  157.000000   157.000000   \n",
       "mean     3.159236     0.355848           8.932611   97.063694  5185.668790   \n",
       "std      0.990400     0.076160           0.530368   28.131031   411.252034   \n",
       "min      2.000000     0.214724           7.500000   60.000000  4200.000000   \n",
       "25%      2.000000     0.297546           8.700000   70.000000  4800.000000   \n",
       "50%      4.000000     0.337423           9.000000   92.000000  5200.000000   \n",
       "75%      4.000000     0.398773           9.310000  114.000000  5500.000000   \n",
       "max      4.000000     0.555215          10.100000  175.000000  6000.000000   \n",
       "\n",
       "         City mpg  Highway mpg         Price  Diesel    Gas  \n",
       "count  157.000000   157.000000    157.000000   157.0  157.0  \n",
       "mean    25.324841    31.076433  11018.477707     0.0    1.0  \n",
       "std      5.245531     5.413115   4562.908291     0.0    0.0  \n",
       "min     16.000000    20.000000   5118.000000     0.0    1.0  \n",
       "25%     21.000000    27.000000   7463.000000     0.0    1.0  \n",
       "50%     25.000000    31.000000   9295.000000     0.0    1.0  \n",
       "75%     30.000000    34.000000  13950.000000     0.0    1.0  \n",
       "max     38.000000    47.000000  24565.000000     0.0    1.0  "
      ]
     },
     "execution_count": 20,
     "metadata": {},
     "output_type": "execute_result"
    }
   ],
   "source": [
    "# Statistical summary of the DataFrame excluding NaN (not a number)\n",
    "df.describe()"
   ]
  },
  {
   "cell_type": "code",
   "execution_count": 21,
   "metadata": {
    "collapsed": false,
    "jupyter": {
     "outputs_hidden": false
    }
   },
   "outputs": [
    {
     "data": {
      "text/html": [
       "<div>\n",
       "<style scoped>\n",
       "    .dataframe tbody tr th:only-of-type {\n",
       "        vertical-align: middle;\n",
       "    }\n",
       "\n",
       "    .dataframe tbody tr th {\n",
       "        vertical-align: top;\n",
       "    }\n",
       "\n",
       "    .dataframe thead th {\n",
       "        text-align: right;\n",
       "    }\n",
       "</style>\n",
       "<table border=\"1\" class=\"dataframe\">\n",
       "  <thead>\n",
       "    <tr style=\"text-align: right;\">\n",
       "      <th></th>\n",
       "      <th>Make</th>\n",
       "      <th>Doors</th>\n",
       "      <th>Body style</th>\n",
       "      <th>Num of cylinders</th>\n",
       "      <th>Engine size</th>\n",
       "      <th>Compression ratio</th>\n",
       "      <th>Horsepower</th>\n",
       "      <th>Peak rpm</th>\n",
       "      <th>City mpg</th>\n",
       "      <th>Highway mpg</th>\n",
       "      <th>Price</th>\n",
       "      <th>Horsepower binned</th>\n",
       "      <th>Diesel</th>\n",
       "      <th>Gas</th>\n",
       "    </tr>\n",
       "  </thead>\n",
       "  <tbody>\n",
       "    <tr>\n",
       "      <th>count</th>\n",
       "      <td>157</td>\n",
       "      <td>157.000000</td>\n",
       "      <td>157</td>\n",
       "      <td>157</td>\n",
       "      <td>157.000000</td>\n",
       "      <td>157.000000</td>\n",
       "      <td>157.000000</td>\n",
       "      <td>157.000000</td>\n",
       "      <td>157.000000</td>\n",
       "      <td>157.000000</td>\n",
       "      <td>157.000000</td>\n",
       "      <td>157</td>\n",
       "      <td>157.0</td>\n",
       "      <td>157.0</td>\n",
       "    </tr>\n",
       "    <tr>\n",
       "      <th>unique</th>\n",
       "      <td>20</td>\n",
       "      <td>NaN</td>\n",
       "      <td>5</td>\n",
       "      <td>4</td>\n",
       "      <td>NaN</td>\n",
       "      <td>NaN</td>\n",
       "      <td>NaN</td>\n",
       "      <td>NaN</td>\n",
       "      <td>NaN</td>\n",
       "      <td>NaN</td>\n",
       "      <td>NaN</td>\n",
       "      <td>2</td>\n",
       "      <td>NaN</td>\n",
       "      <td>NaN</td>\n",
       "    </tr>\n",
       "    <tr>\n",
       "      <th>top</th>\n",
       "      <td>TOYOTA</td>\n",
       "      <td>NaN</td>\n",
       "      <td>sedan</td>\n",
       "      <td>four</td>\n",
       "      <td>NaN</td>\n",
       "      <td>NaN</td>\n",
       "      <td>NaN</td>\n",
       "      <td>NaN</td>\n",
       "      <td>NaN</td>\n",
       "      <td>NaN</td>\n",
       "      <td>NaN</td>\n",
       "      <td>Low</td>\n",
       "      <td>NaN</td>\n",
       "      <td>NaN</td>\n",
       "    </tr>\n",
       "    <tr>\n",
       "      <th>freq</th>\n",
       "      <td>27</td>\n",
       "      <td>NaN</td>\n",
       "      <td>69</td>\n",
       "      <td>133</td>\n",
       "      <td>NaN</td>\n",
       "      <td>NaN</td>\n",
       "      <td>NaN</td>\n",
       "      <td>NaN</td>\n",
       "      <td>NaN</td>\n",
       "      <td>NaN</td>\n",
       "      <td>NaN</td>\n",
       "      <td>133</td>\n",
       "      <td>NaN</td>\n",
       "      <td>NaN</td>\n",
       "    </tr>\n",
       "    <tr>\n",
       "      <th>mean</th>\n",
       "      <td>NaN</td>\n",
       "      <td>3.159236</td>\n",
       "      <td>NaN</td>\n",
       "      <td>NaN</td>\n",
       "      <td>0.355848</td>\n",
       "      <td>8.932611</td>\n",
       "      <td>97.063694</td>\n",
       "      <td>5185.668790</td>\n",
       "      <td>25.324841</td>\n",
       "      <td>31.076433</td>\n",
       "      <td>11018.477707</td>\n",
       "      <td>NaN</td>\n",
       "      <td>0.0</td>\n",
       "      <td>1.0</td>\n",
       "    </tr>\n",
       "    <tr>\n",
       "      <th>std</th>\n",
       "      <td>NaN</td>\n",
       "      <td>0.990400</td>\n",
       "      <td>NaN</td>\n",
       "      <td>NaN</td>\n",
       "      <td>0.076160</td>\n",
       "      <td>0.530368</td>\n",
       "      <td>28.131031</td>\n",
       "      <td>411.252034</td>\n",
       "      <td>5.245531</td>\n",
       "      <td>5.413115</td>\n",
       "      <td>4562.908291</td>\n",
       "      <td>NaN</td>\n",
       "      <td>0.0</td>\n",
       "      <td>0.0</td>\n",
       "    </tr>\n",
       "    <tr>\n",
       "      <th>min</th>\n",
       "      <td>NaN</td>\n",
       "      <td>2.000000</td>\n",
       "      <td>NaN</td>\n",
       "      <td>NaN</td>\n",
       "      <td>0.214724</td>\n",
       "      <td>7.500000</td>\n",
       "      <td>60.000000</td>\n",
       "      <td>4200.000000</td>\n",
       "      <td>16.000000</td>\n",
       "      <td>20.000000</td>\n",
       "      <td>5118.000000</td>\n",
       "      <td>NaN</td>\n",
       "      <td>0.0</td>\n",
       "      <td>1.0</td>\n",
       "    </tr>\n",
       "    <tr>\n",
       "      <th>25%</th>\n",
       "      <td>NaN</td>\n",
       "      <td>2.000000</td>\n",
       "      <td>NaN</td>\n",
       "      <td>NaN</td>\n",
       "      <td>0.297546</td>\n",
       "      <td>8.700000</td>\n",
       "      <td>70.000000</td>\n",
       "      <td>4800.000000</td>\n",
       "      <td>21.000000</td>\n",
       "      <td>27.000000</td>\n",
       "      <td>7463.000000</td>\n",
       "      <td>NaN</td>\n",
       "      <td>0.0</td>\n",
       "      <td>1.0</td>\n",
       "    </tr>\n",
       "    <tr>\n",
       "      <th>50%</th>\n",
       "      <td>NaN</td>\n",
       "      <td>4.000000</td>\n",
       "      <td>NaN</td>\n",
       "      <td>NaN</td>\n",
       "      <td>0.337423</td>\n",
       "      <td>9.000000</td>\n",
       "      <td>92.000000</td>\n",
       "      <td>5200.000000</td>\n",
       "      <td>25.000000</td>\n",
       "      <td>31.000000</td>\n",
       "      <td>9295.000000</td>\n",
       "      <td>NaN</td>\n",
       "      <td>0.0</td>\n",
       "      <td>1.0</td>\n",
       "    </tr>\n",
       "    <tr>\n",
       "      <th>75%</th>\n",
       "      <td>NaN</td>\n",
       "      <td>4.000000</td>\n",
       "      <td>NaN</td>\n",
       "      <td>NaN</td>\n",
       "      <td>0.398773</td>\n",
       "      <td>9.310000</td>\n",
       "      <td>114.000000</td>\n",
       "      <td>5500.000000</td>\n",
       "      <td>30.000000</td>\n",
       "      <td>34.000000</td>\n",
       "      <td>13950.000000</td>\n",
       "      <td>NaN</td>\n",
       "      <td>0.0</td>\n",
       "      <td>1.0</td>\n",
       "    </tr>\n",
       "    <tr>\n",
       "      <th>max</th>\n",
       "      <td>NaN</td>\n",
       "      <td>4.000000</td>\n",
       "      <td>NaN</td>\n",
       "      <td>NaN</td>\n",
       "      <td>0.555215</td>\n",
       "      <td>10.100000</td>\n",
       "      <td>175.000000</td>\n",
       "      <td>6000.000000</td>\n",
       "      <td>38.000000</td>\n",
       "      <td>47.000000</td>\n",
       "      <td>24565.000000</td>\n",
       "      <td>NaN</td>\n",
       "      <td>0.0</td>\n",
       "      <td>1.0</td>\n",
       "    </tr>\n",
       "  </tbody>\n",
       "</table>\n",
       "</div>"
      ],
      "text/plain": [
       "          Make       Doors Body style Num of cylinders  Engine size  \\\n",
       "count      157  157.000000        157              157   157.000000   \n",
       "unique      20         NaN          5                4          NaN   \n",
       "top     TOYOTA         NaN      sedan             four          NaN   \n",
       "freq        27         NaN         69              133          NaN   \n",
       "mean       NaN    3.159236        NaN              NaN     0.355848   \n",
       "std        NaN    0.990400        NaN              NaN     0.076160   \n",
       "min        NaN    2.000000        NaN              NaN     0.214724   \n",
       "25%        NaN    2.000000        NaN              NaN     0.297546   \n",
       "50%        NaN    4.000000        NaN              NaN     0.337423   \n",
       "75%        NaN    4.000000        NaN              NaN     0.398773   \n",
       "max        NaN    4.000000        NaN              NaN     0.555215   \n",
       "\n",
       "        Compression ratio  Horsepower     Peak rpm    City mpg  Highway mpg  \\\n",
       "count          157.000000  157.000000   157.000000  157.000000   157.000000   \n",
       "unique                NaN         NaN          NaN         NaN          NaN   \n",
       "top                   NaN         NaN          NaN         NaN          NaN   \n",
       "freq                  NaN         NaN          NaN         NaN          NaN   \n",
       "mean             8.932611   97.063694  5185.668790   25.324841    31.076433   \n",
       "std              0.530368   28.131031   411.252034    5.245531     5.413115   \n",
       "min              7.500000   60.000000  4200.000000   16.000000    20.000000   \n",
       "25%              8.700000   70.000000  4800.000000   21.000000    27.000000   \n",
       "50%              9.000000   92.000000  5200.000000   25.000000    31.000000   \n",
       "75%              9.310000  114.000000  5500.000000   30.000000    34.000000   \n",
       "max             10.100000  175.000000  6000.000000   38.000000    47.000000   \n",
       "\n",
       "               Price Horsepower binned  Diesel    Gas  \n",
       "count     157.000000               157   157.0  157.0  \n",
       "unique           NaN                 2     NaN    NaN  \n",
       "top              NaN               Low     NaN    NaN  \n",
       "freq             NaN               133     NaN    NaN  \n",
       "mean    11018.477707               NaN     0.0    1.0  \n",
       "std      4562.908291               NaN     0.0    0.0  \n",
       "min      5118.000000               NaN     0.0    1.0  \n",
       "25%      7463.000000               NaN     0.0    1.0  \n",
       "50%      9295.000000               NaN     0.0    1.0  \n",
       "75%     13950.000000               NaN     0.0    1.0  \n",
       "max     24565.000000               NaN     0.0    1.0  "
      ]
     },
     "execution_count": 21,
     "metadata": {},
     "output_type": "execute_result"
    }
   ],
   "source": [
    "# Statistical summary of the DataFrame including all data\n",
    "df.describe(include = \"all\")"
   ]
  },
  {
   "cell_type": "markdown",
   "metadata": {},
   "source": [
    "### 6. Check for correlations."
   ]
  },
  {
   "cell_type": "code",
   "execution_count": 22,
   "metadata": {},
   "outputs": [
    {
     "data": {
      "text/html": [
       "<div>\n",
       "<style scoped>\n",
       "    .dataframe tbody tr th:only-of-type {\n",
       "        vertical-align: middle;\n",
       "    }\n",
       "\n",
       "    .dataframe tbody tr th {\n",
       "        vertical-align: top;\n",
       "    }\n",
       "\n",
       "    .dataframe thead th {\n",
       "        text-align: right;\n",
       "    }\n",
       "</style>\n",
       "<table border=\"1\" class=\"dataframe\">\n",
       "  <thead>\n",
       "    <tr style=\"text-align: right;\">\n",
       "      <th></th>\n",
       "      <th>Doors</th>\n",
       "      <th>Engine size</th>\n",
       "      <th>Compression ratio</th>\n",
       "      <th>Horsepower</th>\n",
       "      <th>Peak rpm</th>\n",
       "      <th>City mpg</th>\n",
       "      <th>Highway mpg</th>\n",
       "      <th>Price</th>\n",
       "      <th>Diesel</th>\n",
       "      <th>Gas</th>\n",
       "    </tr>\n",
       "  </thead>\n",
       "  <tbody>\n",
       "    <tr>\n",
       "      <th>Doors</th>\n",
       "      <td>1.000000</td>\n",
       "      <td>0.100324</td>\n",
       "      <td>-0.145653</td>\n",
       "      <td>0.009757</td>\n",
       "      <td>-0.134432</td>\n",
       "      <td>-0.092691</td>\n",
       "      <td>-0.100331</td>\n",
       "      <td>0.133750</td>\n",
       "      <td>NaN</td>\n",
       "      <td>NaN</td>\n",
       "    </tr>\n",
       "    <tr>\n",
       "      <th>Engine size</th>\n",
       "      <td>0.100324</td>\n",
       "      <td>1.000000</td>\n",
       "      <td>-0.118217</td>\n",
       "      <td>0.786765</td>\n",
       "      <td>-0.263262</td>\n",
       "      <td>-0.639240</td>\n",
       "      <td>-0.629073</td>\n",
       "      <td>0.704516</td>\n",
       "      <td>NaN</td>\n",
       "      <td>NaN</td>\n",
       "    </tr>\n",
       "    <tr>\n",
       "      <th>Compression ratio</th>\n",
       "      <td>-0.145653</td>\n",
       "      <td>-0.118217</td>\n",
       "      <td>1.000000</td>\n",
       "      <td>-0.257869</td>\n",
       "      <td>0.141565</td>\n",
       "      <td>0.375383</td>\n",
       "      <td>0.373054</td>\n",
       "      <td>-0.157440</td>\n",
       "      <td>NaN</td>\n",
       "      <td>NaN</td>\n",
       "    </tr>\n",
       "    <tr>\n",
       "      <th>Horsepower</th>\n",
       "      <td>0.009757</td>\n",
       "      <td>0.786765</td>\n",
       "      <td>-0.257869</td>\n",
       "      <td>1.000000</td>\n",
       "      <td>0.063163</td>\n",
       "      <td>-0.815921</td>\n",
       "      <td>-0.798512</td>\n",
       "      <td>0.799901</td>\n",
       "      <td>NaN</td>\n",
       "      <td>NaN</td>\n",
       "    </tr>\n",
       "    <tr>\n",
       "      <th>Peak rpm</th>\n",
       "      <td>-0.134432</td>\n",
       "      <td>-0.263262</td>\n",
       "      <td>0.141565</td>\n",
       "      <td>0.063163</td>\n",
       "      <td>1.000000</td>\n",
       "      <td>-0.052355</td>\n",
       "      <td>-0.039962</td>\n",
       "      <td>0.012753</td>\n",
       "      <td>NaN</td>\n",
       "      <td>NaN</td>\n",
       "    </tr>\n",
       "    <tr>\n",
       "      <th>City mpg</th>\n",
       "      <td>-0.092691</td>\n",
       "      <td>-0.639240</td>\n",
       "      <td>0.375383</td>\n",
       "      <td>-0.815921</td>\n",
       "      <td>-0.052355</td>\n",
       "      <td>1.000000</td>\n",
       "      <td>0.972127</td>\n",
       "      <td>-0.803378</td>\n",
       "      <td>NaN</td>\n",
       "      <td>NaN</td>\n",
       "    </tr>\n",
       "    <tr>\n",
       "      <th>Highway mpg</th>\n",
       "      <td>-0.100331</td>\n",
       "      <td>-0.629073</td>\n",
       "      <td>0.373054</td>\n",
       "      <td>-0.798512</td>\n",
       "      <td>-0.039962</td>\n",
       "      <td>0.972127</td>\n",
       "      <td>1.000000</td>\n",
       "      <td>-0.788330</td>\n",
       "      <td>NaN</td>\n",
       "      <td>NaN</td>\n",
       "    </tr>\n",
       "    <tr>\n",
       "      <th>Price</th>\n",
       "      <td>0.133750</td>\n",
       "      <td>0.704516</td>\n",
       "      <td>-0.157440</td>\n",
       "      <td>0.799901</td>\n",
       "      <td>0.012753</td>\n",
       "      <td>-0.803378</td>\n",
       "      <td>-0.788330</td>\n",
       "      <td>1.000000</td>\n",
       "      <td>NaN</td>\n",
       "      <td>NaN</td>\n",
       "    </tr>\n",
       "    <tr>\n",
       "      <th>Diesel</th>\n",
       "      <td>NaN</td>\n",
       "      <td>NaN</td>\n",
       "      <td>NaN</td>\n",
       "      <td>NaN</td>\n",
       "      <td>NaN</td>\n",
       "      <td>NaN</td>\n",
       "      <td>NaN</td>\n",
       "      <td>NaN</td>\n",
       "      <td>NaN</td>\n",
       "      <td>NaN</td>\n",
       "    </tr>\n",
       "    <tr>\n",
       "      <th>Gas</th>\n",
       "      <td>NaN</td>\n",
       "      <td>NaN</td>\n",
       "      <td>NaN</td>\n",
       "      <td>NaN</td>\n",
       "      <td>NaN</td>\n",
       "      <td>NaN</td>\n",
       "      <td>NaN</td>\n",
       "      <td>NaN</td>\n",
       "      <td>NaN</td>\n",
       "      <td>NaN</td>\n",
       "    </tr>\n",
       "  </tbody>\n",
       "</table>\n",
       "</div>"
      ],
      "text/plain": [
       "                      Doors  Engine size  Compression ratio  Horsepower  \\\n",
       "Doors              1.000000     0.100324          -0.145653    0.009757   \n",
       "Engine size        0.100324     1.000000          -0.118217    0.786765   \n",
       "Compression ratio -0.145653    -0.118217           1.000000   -0.257869   \n",
       "Horsepower         0.009757     0.786765          -0.257869    1.000000   \n",
       "Peak rpm          -0.134432    -0.263262           0.141565    0.063163   \n",
       "City mpg          -0.092691    -0.639240           0.375383   -0.815921   \n",
       "Highway mpg       -0.100331    -0.629073           0.373054   -0.798512   \n",
       "Price              0.133750     0.704516          -0.157440    0.799901   \n",
       "Diesel                  NaN          NaN                NaN         NaN   \n",
       "Gas                     NaN          NaN                NaN         NaN   \n",
       "\n",
       "                   Peak rpm  City mpg  Highway mpg     Price  Diesel  Gas  \n",
       "Doors             -0.134432 -0.092691    -0.100331  0.133750     NaN  NaN  \n",
       "Engine size       -0.263262 -0.639240    -0.629073  0.704516     NaN  NaN  \n",
       "Compression ratio  0.141565  0.375383     0.373054 -0.157440     NaN  NaN  \n",
       "Horsepower         0.063163 -0.815921    -0.798512  0.799901     NaN  NaN  \n",
       "Peak rpm           1.000000 -0.052355    -0.039962  0.012753     NaN  NaN  \n",
       "City mpg          -0.052355  1.000000     0.972127 -0.803378     NaN  NaN  \n",
       "Highway mpg       -0.039962  0.972127     1.000000 -0.788330     NaN  NaN  \n",
       "Price              0.012753 -0.803378    -0.788330  1.000000     NaN  NaN  \n",
       "Diesel                  NaN       NaN          NaN       NaN     NaN  NaN  \n",
       "Gas                     NaN       NaN          NaN       NaN     NaN  NaN  "
      ]
     },
     "execution_count": 22,
     "metadata": {},
     "output_type": "execute_result"
    },
    {
     "data": {
      "image/png": "[encoded data removed]",
      "text/plain": [
       "<Figure size 864x432 with 2 Axes>"
      ]
     },
     "metadata": {
      "needs_background": "light"
     },
     "output_type": "display_data"
    }
   ],
   "source": [
    "c= df.corr()\n",
    "fig, ax = plt.subplots(figsize=(12, 6))\n",
    "sns.heatmap(c, cmap=\"coolwarm\", annot=True)\n",
    "ax.tick_params(labelsize=15)\n",
    "ax.axis('tight')\n",
    "c"
   ]
  },
  {
   "cell_type": "markdown",
   "metadata": {
    "colab_type": "text",
    "id": "WqFPRda8eEp_"
   },
   "source": [
    "### 7. Plot features."
   ]
  },
  {
   "cell_type": "code",
   "execution_count": 23,
   "metadata": {
    "colab": {
     "base_uri": "https://localhost:8080/",
     "height": 431
    },
    "colab_type": "code",
    "id": "dAnd4DSyeHDb",
    "outputId": "44b04e39-9dc7-40fc-9ddb-b7182f4f6e1f"
   },
   "outputs": [
    {
     "data": {
      "image/png": "[encoded data removed]",
      "text/plain": [
       "<Figure size 720x360 with 1 Axes>"
      ]
     },
     "metadata": {
      "needs_background": "light"
     },
     "output_type": "display_data"
    }
   ],
   "source": [
    "df.Make.value_counts().nlargest(40).plot(kind='bar', figsize=(10,5))\n",
    "plt.xlabel(r\"Make\", fontsize=18)\n",
    "plt.ylabel(r\"Number of cars\", fontsize=18)\n",
    "plt.title(\"Number of cars by make\", fontsize=20)\n",
    "plt.tick_params(labelsize=15)\n",
    "plt.axis('tight');\n",
    "# ax.grid(True)"
   ]
  },
  {
   "cell_type": "code",
   "execution_count": 24,
   "metadata": {},
   "outputs": [
    {
     "data": {
      "text/plain": [
       "<matplotlib.axes._subplots.AxesSubplot at 0x11f9cea58>"
      ]
     },
     "execution_count": 24,
     "metadata": {},
     "output_type": "execute_result"
    },
    {
     "data": {
      "image/png": "[encoded data removed]",
      "text/plain": [
       "<Figure size 864x504 with 1 Axes>"
      ]
     },
     "metadata": {
      "needs_background": "light"
     },
     "output_type": "display_data"
    }
   ],
   "source": [
    "# Engine size as potential predictor variable of Horsepower\n",
    "fig = plt.figure(figsize=(12,7))\n",
    "sns.regplot(x=\"Engine size\", y=\"Horsepower\", data=df)\n",
    "# plt.ylim(0,)"
   ]
  },
  {
   "cell_type": "markdown",
   "metadata": {},
   "source": [
    "The Pearson Correlation Coefficient is a meassure of how linear is the relation (+ coeff + linear).\n",
    "\n",
    "P-values is a meassure of how strong and statistically significant is the correlation (- P-value + strong the correlation)."
   ]
  },
  {
   "cell_type": "code",
   "execution_count": 25,
   "metadata": {},
   "outputs": [
    {
     "name": "stdout",
     "output_type": "stream",
     "text": [
      "The Pearson Correlation Coefficient is 0.7867651357113649  with a P-value of P = 2.693287004940483e-34\n"
     ]
    }
   ],
   "source": [
    "pearson_coef, p_value = stats.pearsonr(df['Engine size'], df['Horsepower'])\n",
    "print(\"The Pearson Correlation Coefficient is\", pearson_coef, \" with a P-value of P =\", p_value)"
   ]
  },
  {
   "cell_type": "code",
   "execution_count": 26,
   "metadata": {},
   "outputs": [
    {
     "data": {
      "text/plain": [
       "<matplotlib.axes._subplots.AxesSubplot at 0x11fa739e8>"
      ]
     },
     "execution_count": 26,
     "metadata": {},
     "output_type": "execute_result"
    },
    {
     "data": {
      "image/png": "[encoded data removed]",
      "text/plain": [
       "<Figure size 864x504 with 1 Axes>"
      ]
     },
     "metadata": {
      "needs_background": "light"
     },
     "output_type": "display_data"
    }
   ],
   "source": [
    "# City mpg as potential predictor variable of Highway mpg\n",
    "fig = plt.figure(figsize=(12,7))\n",
    "sns.regplot(x=\"City mpg\", y=\"Highway mpg\", data=df)\n",
    "# plt.ylim(0,)"
   ]
  },
  {
   "cell_type": "code",
   "execution_count": 27,
   "metadata": {},
   "outputs": [
    {
     "name": "stdout",
     "output_type": "stream",
     "text": [
      "The Pearson Correlation Coefficient is 0.9721269677836317  with a P-value of P = 1.5045941435823202e-99\n"
     ]
    }
   ],
   "source": [
    "pearson_coef, p_value = stats.pearsonr(df['City mpg'], df['Highway mpg'])\n",
    "print(\"The Pearson Correlation Coefficient is\", pearson_coef, \" with a P-value of P =\", p_value)"
   ]
  },
  {
   "cell_type": "markdown",
   "metadata": {},
   "source": [
    "### Categorical variables"
   ]
  },
  {
   "cell_type": "code",
   "execution_count": 28,
   "metadata": {},
   "outputs": [
    {
     "data": {
      "text/plain": [
       "<matplotlib.axes._subplots.AxesSubplot at 0x11fae20f0>"
      ]
     },
     "execution_count": 28,
     "metadata": {},
     "output_type": "execute_result"
    },
    {
     "data": {
      "image/png": "[encoded data removed]",
      "text/plain": [
       "<Figure size 864x504 with 1 Axes>"
      ]
     },
     "metadata": {
      "needs_background": "light"
     },
     "output_type": "display_data"
    }
   ],
   "source": [
    "fig = plt.figure(figsize=(12,7))\n",
    "sns.boxplot(x=\"Body style\", y=\"Price\", data=df)"
   ]
  },
  {
   "cell_type": "markdown",
   "metadata": {},
   "source": [
    "#### Value counts"
   ]
  },
  {
   "cell_type": "code",
   "execution_count": 29,
   "metadata": {},
   "outputs": [
    {
     "data": {
      "text/html": [
       "<div>\n",
       "<style scoped>\n",
       "    .dataframe tbody tr th:only-of-type {\n",
       "        vertical-align: middle;\n",
       "    }\n",
       "\n",
       "    .dataframe tbody tr th {\n",
       "        vertical-align: top;\n",
       "    }\n",
       "\n",
       "    .dataframe thead th {\n",
       "        text-align: right;\n",
       "    }\n",
       "</style>\n",
       "<table border=\"1\" class=\"dataframe\">\n",
       "  <thead>\n",
       "    <tr style=\"text-align: right;\">\n",
       "      <th></th>\n",
       "      <th>Body style</th>\n",
       "    </tr>\n",
       "  </thead>\n",
       "  <tbody>\n",
       "    <tr>\n",
       "      <th>sedan</th>\n",
       "      <td>69</td>\n",
       "    </tr>\n",
       "    <tr>\n",
       "      <th>hatchback</th>\n",
       "      <td>58</td>\n",
       "    </tr>\n",
       "    <tr>\n",
       "      <th>wagon</th>\n",
       "      <td>22</td>\n",
       "    </tr>\n",
       "    <tr>\n",
       "      <th>convertible</th>\n",
       "      <td>4</td>\n",
       "    </tr>\n",
       "    <tr>\n",
       "      <th>hardtop</th>\n",
       "      <td>4</td>\n",
       "    </tr>\n",
       "  </tbody>\n",
       "</table>\n",
       "</div>"
      ],
      "text/plain": [
       "             Body style\n",
       "sedan                69\n",
       "hatchback            58\n",
       "wagon                22\n",
       "convertible           4\n",
       "hardtop               4"
      ]
     },
     "execution_count": 29,
     "metadata": {},
     "output_type": "execute_result"
    }
   ],
   "source": [
    "df['Body style'].value_counts().to_frame()"
   ]
  },
  {
   "cell_type": "markdown",
   "metadata": {
    "colab_type": "text",
    "id": "WqFPRda8eEp_"
   },
   "source": [
    "### 8. Group by."
   ]
  },
  {
   "cell_type": "code",
   "execution_count": 30,
   "metadata": {},
   "outputs": [
    {
     "data": {
      "text/html": [
       "<div>\n",
       "<style scoped>\n",
       "    .dataframe tbody tr th:only-of-type {\n",
       "        vertical-align: middle;\n",
       "    }\n",
       "\n",
       "    .dataframe tbody tr th {\n",
       "        vertical-align: top;\n",
       "    }\n",
       "\n",
       "    .dataframe thead th {\n",
       "        text-align: right;\n",
       "    }\n",
       "</style>\n",
       "<table border=\"1\" class=\"dataframe\">\n",
       "  <thead>\n",
       "    <tr style=\"text-align: right;\">\n",
       "      <th></th>\n",
       "      <th>Body style</th>\n",
       "      <th>Doors</th>\n",
       "      <th>Engine size</th>\n",
       "      <th>Compression ratio</th>\n",
       "      <th>Horsepower</th>\n",
       "      <th>Peak rpm</th>\n",
       "      <th>City mpg</th>\n",
       "      <th>Highway mpg</th>\n",
       "      <th>Price</th>\n",
       "      <th>Diesel</th>\n",
       "      <th>Gas</th>\n",
       "    </tr>\n",
       "  </thead>\n",
       "  <tbody>\n",
       "    <tr>\n",
       "      <th>0</th>\n",
       "      <td>convertible</td>\n",
       "      <td>2.000000</td>\n",
       "      <td>0.394939</td>\n",
       "      <td>8.950000</td>\n",
       "      <td>107.000000</td>\n",
       "      <td>5075.000000</td>\n",
       "      <td>22.500000</td>\n",
       "      <td>28.250000</td>\n",
       "      <td>14814.750000</td>\n",
       "      <td>0.0</td>\n",
       "      <td>1.0</td>\n",
       "    </tr>\n",
       "    <tr>\n",
       "      <th>1</th>\n",
       "      <td>hardtop</td>\n",
       "      <td>2.000000</td>\n",
       "      <td>0.410276</td>\n",
       "      <td>9.325000</td>\n",
       "      <td>104.250000</td>\n",
       "      <td>4900.000000</td>\n",
       "      <td>25.750000</td>\n",
       "      <td>31.750000</td>\n",
       "      <td>9384.000000</td>\n",
       "      <td>0.0</td>\n",
       "      <td>1.0</td>\n",
       "    </tr>\n",
       "    <tr>\n",
       "      <th>2</th>\n",
       "      <td>hatchback</td>\n",
       "      <td>2.310345</td>\n",
       "      <td>0.335942</td>\n",
       "      <td>8.984828</td>\n",
       "      <td>93.948276</td>\n",
       "      <td>5236.637931</td>\n",
       "      <td>26.500000</td>\n",
       "      <td>32.344828</td>\n",
       "      <td>9667.862069</td>\n",
       "      <td>0.0</td>\n",
       "      <td>1.0</td>\n",
       "    </tr>\n",
       "    <tr>\n",
       "      <th>3</th>\n",
       "      <td>sedan</td>\n",
       "      <td>3.739130</td>\n",
       "      <td>0.364631</td>\n",
       "      <td>8.895652</td>\n",
       "      <td>98.666667</td>\n",
       "      <td>5184.057971</td>\n",
       "      <td>24.884058</td>\n",
       "      <td>30.724638</td>\n",
       "      <td>11916.724638</td>\n",
       "      <td>0.0</td>\n",
       "      <td>1.0</td>\n",
       "    </tr>\n",
       "    <tr>\n",
       "      <th>4</th>\n",
       "      <td>wagon</td>\n",
       "      <td>4.000000</td>\n",
       "      <td>0.363776</td>\n",
       "      <td>8.836364</td>\n",
       "      <td>97.136364</td>\n",
       "      <td>5128.409091</td>\n",
       "      <td>24.045455</td>\n",
       "      <td>29.227273</td>\n",
       "      <td>11368.909091</td>\n",
       "      <td>0.0</td>\n",
       "      <td>1.0</td>\n",
       "    </tr>\n",
       "  </tbody>\n",
       "</table>\n",
       "</div>"
      ],
      "text/plain": [
       "    Body style     Doors  Engine size  Compression ratio  Horsepower  \\\n",
       "0  convertible  2.000000     0.394939           8.950000  107.000000   \n",
       "1      hardtop  2.000000     0.410276           9.325000  104.250000   \n",
       "2    hatchback  2.310345     0.335942           8.984828   93.948276   \n",
       "3        sedan  3.739130     0.364631           8.895652   98.666667   \n",
       "4        wagon  4.000000     0.363776           8.836364   97.136364   \n",
       "\n",
       "      Peak rpm   City mpg  Highway mpg         Price  Diesel  Gas  \n",
       "0  5075.000000  22.500000    28.250000  14814.750000     0.0  1.0  \n",
       "1  4900.000000  25.750000    31.750000   9384.000000     0.0  1.0  \n",
       "2  5236.637931  26.500000    32.344828   9667.862069     0.0  1.0  \n",
       "3  5184.057971  24.884058    30.724638  11916.724638     0.0  1.0  \n",
       "4  5128.409091  24.045455    29.227273  11368.909091     0.0  1.0  "
      ]
     },
     "execution_count": 30,
     "metadata": {},
     "output_type": "execute_result"
    }
   ],
   "source": [
    "# Group and shows mean of group\n",
    "df.groupby(['Body style'],as_index=False).mean()"
   ]
  },
  {
   "cell_type": "markdown",
   "metadata": {},
   "source": [
    "### 9. ANOVA: Analysis of Variance.\n",
    "\n",
    "The Analysis of Variance (ANOVA) is a statistical method used to test whether there are significant differences between the means of two or more groups. ANOVA returns two parameters:\n",
    "\n",
    "F-test score: ANOVA assumes the means of all groups are the same, calculates how much the actual means deviate from the assumption, and reports it as the F-test score. A larger score means there is a larger difference between the means.\n",
    "\n",
    "P-value: P-value tells how statistically significant is our calculated score value."
   ]
  },
  {
   "cell_type": "code",
   "execution_count": 31,
   "metadata": {
    "collapsed": false,
    "jupyter": {
     "outputs_hidden": false
    }
   },
   "outputs": [
    {
     "name": "stdout",
     "output_type": "stream",
     "text": [
      "ANOVA results: F= 0.6083835528565865 , P = 0.5464046178508866\n"
     ]
    }
   ],
   "source": [
    "group = df[['Body style', 'Price']].groupby(['Body style'])\n",
    "\n",
    "# ANOVA\n",
    "f_val, p_val = stats.f_oneway(group.get_group('sedan')['Price'], group.get_group('wagon')['Price'], group.get_group('hardtop')['Price'])  \n",
    " \n",
    "print( \"ANOVA results: F=\", f_val, \", P =\", p_val) "
   ]
  },
  {
   "cell_type": "markdown",
   "metadata": {},
   "source": [
    "### 10. Save clean data."
   ]
  },
  {
   "cell_type": "code",
   "execution_count": 32,
   "metadata": {},
   "outputs": [],
   "source": [
    "# Save data to file\n",
    "df.to_csv(\"Data/Cars_ReCleanData.csv\", index=False)"
   ]
  },
  {
   "cell_type": "markdown",
   "metadata": {},
   "source": [
    "<h3>Read/Save Other Data Formats</h3>\n",
    "\n",
    "\n",
    "\n",
    "| Data Formate  | Read           | Save             |\n",
    "| ------------- |:--------------:| ----------------:|\n",
    "| csv           | `pd.read_csv()`  |`df.to_csv()`     |\n",
    "| json          | `pd.read_json()` |`df.to_json()`    |\n",
    "| excel         | `pd.read_excel()`|`df.to_excel()`   |\n",
    "| hdf           | `pd.read_hdf()`  |`df.to_hdf()`     |\n",
    "| sql           | `pd.read_sql()`  |`df.to_sql()`     |\n",
    "| ...           |   ...          |       ...        |"
   ]
  },
  {
   "cell_type": "code",
   "execution_count": null,
   "metadata": {},
   "outputs": [],
   "source": []
  },
  {
   "cell_type": "code",
   "execution_count": null,
   "metadata": {},
   "outputs": [],
   "source": []
  },
  {
   "cell_type": "code",
   "execution_count": null,
   "metadata": {},
   "outputs": [],
   "source": []
  }
 ],
 "metadata": {
  "kernelspec": {
   "display_name": "Python 3",
   "language": "python",
   "name": "python3"
  },
  "language_info": {
   "codemirror_mode": {
    "name": "ipython",
    "version": 3
   },
   "file_extension": ".py",
   "mimetype": "text/x-python",
   "name": "python",
   "nbconvert_exporter": "python",
   "pygments_lexer": "ipython3",
   "version": "3.7.3"
  }
 },
 "nbformat": 4,
 "nbformat_minor": 4
}
